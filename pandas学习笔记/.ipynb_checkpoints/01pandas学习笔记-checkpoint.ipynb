{
 "cells": [
  {
   "cell_type": "code",
   "execution_count": 6,
   "metadata": {
    "collapsed": true
   },
   "outputs": [],
   "source": [
    "#一、 创建对象\n",
    "import numpy as np\n",
    "import pandas as pd\n",
    "import matplotlib.pyplot as plt"
   ]
  },
  {
   "cell_type": "code",
   "execution_count": 7,
   "metadata": {},
   "outputs": [
    {
     "name": "stdout",
     "output_type": "stream",
     "text": [
      "0    1.0\n",
      "1    2.0\n",
      "2    3.0\n",
      "3    4.0\n",
      "4    NaN\n",
      "5    5.0\n",
      "dtype: float64\n"
     ]
    }
   ],
   "source": [
    "\"\"\"1、可以通过传递一个list对象来创建一个Series，pandas 会默认创建整型索引：\"\"\"\n",
    "a = pd.Series([1, 2 ,3 ,4, np.nan, 5])\n",
    "print(a)"
   ]
  },
  {
   "cell_type": "code",
   "execution_count": 15,
   "metadata": {},
   "outputs": [
    {
     "name": "stdout",
     "output_type": "stream",
     "text": [
      "DatetimeIndex(['2019-01-22', '2019-01-23', '2019-01-24', '2019-01-25',\n",
      "               '2019-01-26', '2019-01-27', '2019-01-28', '2019-01-29',\n",
      "               '2019-01-30', '2019-01-31'],\n",
      "              dtype='datetime64[ns]', freq='D')\n"
     ]
    }
   ],
   "source": [
    "\"\"\"2、通过传递一个 numpyarray，时间索引以及列标签来创建一个DataFrame：\"\"\"\n",
    "dates = pd.date_range('20190122', periods = 10)\n",
    "print(dates)"
   ]
  },
  {
   "cell_type": "code",
   "execution_count": 16,
   "metadata": {},
   "outputs": [
    {
     "name": "stdout",
     "output_type": "stream",
     "text": [
      "                   A         B         C         D\n",
      "2019-01-22 -0.619592  0.014810 -1.169284 -0.449416\n",
      "2019-01-23 -0.440159 -0.153671 -0.834348 -1.202017\n",
      "2019-01-24  0.727136  0.656800  1.699720  2.271579\n",
      "2019-01-25 -0.158694  0.032695  0.375962 -0.259691\n",
      "2019-01-26 -1.127986  1.224809  0.385031 -0.716630\n",
      "2019-01-27 -0.431793 -0.501032  0.470961  1.092535\n",
      "2019-01-28  1.751580 -0.666542  0.361954  1.142190\n",
      "2019-01-29  0.866299  0.742232 -0.856270  0.236238\n",
      "2019-01-30  1.978532 -0.071853  0.128542 -0.370246\n",
      "2019-01-31  0.332960  1.467517 -0.989058  0.835329\n"
     ]
    }
   ],
   "source": [
    "df = pd.DataFrame(np.random.randn(10, 4), index = dates, columns = list('ABCD')) #DataFrame数据框架\n",
    "print(df) "
   ]
  },
  {
   "cell_type": "code",
   "execution_count": 22,
   "metadata": {},
   "outputs": [
    {
     "name": "stdout",
     "output_type": "stream",
     "text": [
      "     A          B    C  D      E    F\n",
      "0  1.0 2019-01-22  1.0  3   test  foo\n",
      "1  1.0 2019-01-22  1.0  3  train  foo\n",
      "2  1.0 2019-01-22  1.0  3   test  foo\n",
      "3  1.0 2019-01-22  1.0  3  train  foo\n"
     ]
    }
   ],
   "source": [
    "\"\"\"3、通过传递一个能够被转换成类似序列结构的字典对象来创建一个DataFrame：\"\"\"\n",
    "df2 = pd.DataFrame({'A' : 1.,\n",
    "                    'B' : pd.Timestamp('20190122'),\n",
    "                    'C' : pd.Series(1, index = list(range(4)), dtype = 'float64'),\n",
    "                    'D' : np.array([3] * 4, dtype = 'int64'),\n",
    "                    'E' : pd.Categorical([\"test\", \"train\", \"test\", \"train\"]),\n",
    "                    'F' : 'foo'\n",
    "                   })\n",
    "print(df2)"
   ]
  },
  {
   "cell_type": "code",
   "execution_count": 25,
   "metadata": {},
   "outputs": [
    {
     "data": {
      "text/plain": [
       "A           float64\n",
       "B    datetime64[ns]\n",
       "C           float64\n",
       "D             int64\n",
       "E          category\n",
       "F            object\n",
       "dtype: object"
      ]
     },
     "execution_count": 25,
     "metadata": {},
     "output_type": "execute_result"
    }
   ],
   "source": [
    "\"\"\"4、查看不同列的数据类型：\"\"\"\n",
    "df2.dtypes"
   ]
  },
  {
   "cell_type": "code",
   "execution_count": 28,
   "metadata": {},
   "outputs": [
    {
     "data": {
      "text/plain": [
       "'5、如果你使用的是 IPython，使用 Tab 自动补全功能会自动识别所有的属性以及自定义的列，下图中是所有能够被自动识别的属性的一个子集：'"
      ]
     },
     "execution_count": 28,
     "metadata": {},
     "output_type": "execute_result"
    }
   ],
   "source": [
    "\"\"\"5、如果你使用的是 IPython，使用 Tab 自动补全功能会自动识别所有的属性以及自定义的列，下图中是所有能够被自动识别的属性的一个子集：\"\"\"\n",
    "#df2.<TAB>"
   ]
  },
  {
   "cell_type": "code",
   "execution_count": 29,
   "metadata": {
    "collapsed": true
   },
   "outputs": [],
   "source": [
    "#二、 查看数据"
   ]
  },
  {
   "cell_type": "code",
   "execution_count": 30,
   "metadata": {},
   "outputs": [
    {
     "data": {
      "text/html": [
       "<div>\n",
       "<style scoped>\n",
       "    .dataframe tbody tr th:only-of-type {\n",
       "        vertical-align: middle;\n",
       "    }\n",
       "\n",
       "    .dataframe tbody tr th {\n",
       "        vertical-align: top;\n",
       "    }\n",
       "\n",
       "    .dataframe thead th {\n",
       "        text-align: right;\n",
       "    }\n",
       "</style>\n",
       "<table border=\"1\" class=\"dataframe\">\n",
       "  <thead>\n",
       "    <tr style=\"text-align: right;\">\n",
       "      <th></th>\n",
       "      <th>A</th>\n",
       "      <th>B</th>\n",
       "      <th>C</th>\n",
       "      <th>D</th>\n",
       "    </tr>\n",
       "  </thead>\n",
       "  <tbody>\n",
       "    <tr>\n",
       "      <th>2019-01-22</th>\n",
       "      <td>-0.619592</td>\n",
       "      <td>0.014810</td>\n",
       "      <td>-1.169284</td>\n",
       "      <td>-0.449416</td>\n",
       "    </tr>\n",
       "    <tr>\n",
       "      <th>2019-01-23</th>\n",
       "      <td>-0.440159</td>\n",
       "      <td>-0.153671</td>\n",
       "      <td>-0.834348</td>\n",
       "      <td>-1.202017</td>\n",
       "    </tr>\n",
       "    <tr>\n",
       "      <th>2019-01-24</th>\n",
       "      <td>0.727136</td>\n",
       "      <td>0.656800</td>\n",
       "      <td>1.699720</td>\n",
       "      <td>2.271579</td>\n",
       "    </tr>\n",
       "    <tr>\n",
       "      <th>2019-01-25</th>\n",
       "      <td>-0.158694</td>\n",
       "      <td>0.032695</td>\n",
       "      <td>0.375962</td>\n",
       "      <td>-0.259691</td>\n",
       "    </tr>\n",
       "    <tr>\n",
       "      <th>2019-01-26</th>\n",
       "      <td>-1.127986</td>\n",
       "      <td>1.224809</td>\n",
       "      <td>0.385031</td>\n",
       "      <td>-0.716630</td>\n",
       "    </tr>\n",
       "  </tbody>\n",
       "</table>\n",
       "</div>"
      ],
      "text/plain": [
       "                   A         B         C         D\n",
       "2019-01-22 -0.619592  0.014810 -1.169284 -0.449416\n",
       "2019-01-23 -0.440159 -0.153671 -0.834348 -1.202017\n",
       "2019-01-24  0.727136  0.656800  1.699720  2.271579\n",
       "2019-01-25 -0.158694  0.032695  0.375962 -0.259691\n",
       "2019-01-26 -1.127986  1.224809  0.385031 -0.716630"
      ]
     },
     "execution_count": 30,
     "metadata": {},
     "output_type": "execute_result"
    }
   ],
   "source": [
    "\"\"\"1、 查看DataFrame中头部和尾部的行：\"\"\"\n",
    "df.head()"
   ]
  },
  {
   "cell_type": "code",
   "execution_count": 31,
   "metadata": {},
   "outputs": [
    {
     "data": {
      "text/html": [
       "<div>\n",
       "<style scoped>\n",
       "    .dataframe tbody tr th:only-of-type {\n",
       "        vertical-align: middle;\n",
       "    }\n",
       "\n",
       "    .dataframe tbody tr th {\n",
       "        vertical-align: top;\n",
       "    }\n",
       "\n",
       "    .dataframe thead th {\n",
       "        text-align: right;\n",
       "    }\n",
       "</style>\n",
       "<table border=\"1\" class=\"dataframe\">\n",
       "  <thead>\n",
       "    <tr style=\"text-align: right;\">\n",
       "      <th></th>\n",
       "      <th>A</th>\n",
       "      <th>B</th>\n",
       "      <th>C</th>\n",
       "      <th>D</th>\n",
       "    </tr>\n",
       "  </thead>\n",
       "  <tbody>\n",
       "    <tr>\n",
       "      <th>2019-01-29</th>\n",
       "      <td>0.866299</td>\n",
       "      <td>0.742232</td>\n",
       "      <td>-0.856270</td>\n",
       "      <td>0.236238</td>\n",
       "    </tr>\n",
       "    <tr>\n",
       "      <th>2019-01-30</th>\n",
       "      <td>1.978532</td>\n",
       "      <td>-0.071853</td>\n",
       "      <td>0.128542</td>\n",
       "      <td>-0.370246</td>\n",
       "    </tr>\n",
       "    <tr>\n",
       "      <th>2019-01-31</th>\n",
       "      <td>0.332960</td>\n",
       "      <td>1.467517</td>\n",
       "      <td>-0.989058</td>\n",
       "      <td>0.835329</td>\n",
       "    </tr>\n",
       "  </tbody>\n",
       "</table>\n",
       "</div>"
      ],
      "text/plain": [
       "                   A         B         C         D\n",
       "2019-01-29  0.866299  0.742232 -0.856270  0.236238\n",
       "2019-01-30  1.978532 -0.071853  0.128542 -0.370246\n",
       "2019-01-31  0.332960  1.467517 -0.989058  0.835329"
      ]
     },
     "execution_count": 31,
     "metadata": {},
     "output_type": "execute_result"
    }
   ],
   "source": [
    "df.tail(3)"
   ]
  },
  {
   "cell_type": "code",
   "execution_count": 34,
   "metadata": {},
   "outputs": [
    {
     "data": {
      "text/plain": [
       "Index(['A', 'B', 'C', 'D'], dtype='object')"
      ]
     },
     "execution_count": 34,
     "metadata": {},
     "output_type": "execute_result"
    }
   ],
   "source": [
    "\"\"\"2、 显示索引、列和底层的 numpy 数据：\"\"\"\n",
    "df.columns #columns ->列"
   ]
  },
  {
   "cell_type": "code",
   "execution_count": 36,
   "metadata": {},
   "outputs": [
    {
     "data": {
      "text/plain": [
       "array([[-0.61959202,  0.0148104 , -1.16928387, -0.44941631],\n",
       "       [-0.44015854, -0.15367059, -0.83434754, -1.2020174 ],\n",
       "       [ 0.72713552,  0.65680035,  1.69971958,  2.27157941],\n",
       "       [-0.15869369,  0.03269478,  0.37596227, -0.25969077],\n",
       "       [-1.12798613,  1.22480893,  0.38503058, -0.71663006],\n",
       "       [-0.43179349, -0.50103207,  0.47096077,  1.09253461],\n",
       "       [ 1.75157951, -0.66654226,  0.36195443,  1.14218966],\n",
       "       [ 0.86629897,  0.74223228, -0.85626977,  0.23623811],\n",
       "       [ 1.97853172, -0.07185322,  0.12854184, -0.37024601],\n",
       "       [ 0.33295969,  1.46751675, -0.98905765,  0.83532863]])"
      ]
     },
     "execution_count": 36,
     "metadata": {},
     "output_type": "execute_result"
    }
   ],
   "source": [
    "df.values"
   ]
  },
  {
   "cell_type": "code",
   "execution_count": 37,
   "metadata": {},
   "outputs": [
    {
     "data": {
      "text/html": [
       "<div>\n",
       "<style scoped>\n",
       "    .dataframe tbody tr th:only-of-type {\n",
       "        vertical-align: middle;\n",
       "    }\n",
       "\n",
       "    .dataframe tbody tr th {\n",
       "        vertical-align: top;\n",
       "    }\n",
       "\n",
       "    .dataframe thead th {\n",
       "        text-align: right;\n",
       "    }\n",
       "</style>\n",
       "<table border=\"1\" class=\"dataframe\">\n",
       "  <thead>\n",
       "    <tr style=\"text-align: right;\">\n",
       "      <th></th>\n",
       "      <th>A</th>\n",
       "      <th>B</th>\n",
       "      <th>C</th>\n",
       "      <th>D</th>\n",
       "    </tr>\n",
       "  </thead>\n",
       "  <tbody>\n",
       "    <tr>\n",
       "      <th>count</th>\n",
       "      <td>10.000000</td>\n",
       "      <td>10.000000</td>\n",
       "      <td>10.000000</td>\n",
       "      <td>10.000000</td>\n",
       "    </tr>\n",
       "    <tr>\n",
       "      <th>mean</th>\n",
       "      <td>0.287828</td>\n",
       "      <td>0.274577</td>\n",
       "      <td>-0.042679</td>\n",
       "      <td>0.257987</td>\n",
       "    </tr>\n",
       "    <tr>\n",
       "      <th>std</th>\n",
       "      <td>1.033110</td>\n",
       "      <td>0.715504</td>\n",
       "      <td>0.900898</td>\n",
       "      <td>1.059938</td>\n",
       "    </tr>\n",
       "    <tr>\n",
       "      <th>min</th>\n",
       "      <td>-1.127986</td>\n",
       "      <td>-0.666542</td>\n",
       "      <td>-1.169284</td>\n",
       "      <td>-1.202017</td>\n",
       "    </tr>\n",
       "    <tr>\n",
       "      <th>25%</th>\n",
       "      <td>-0.438067</td>\n",
       "      <td>-0.133216</td>\n",
       "      <td>-0.850789</td>\n",
       "      <td>-0.429624</td>\n",
       "    </tr>\n",
       "    <tr>\n",
       "      <th>50%</th>\n",
       "      <td>0.087133</td>\n",
       "      <td>0.023753</td>\n",
       "      <td>0.245248</td>\n",
       "      <td>-0.011726</td>\n",
       "    </tr>\n",
       "    <tr>\n",
       "      <th>75%</th>\n",
       "      <td>0.831508</td>\n",
       "      <td>0.720874</td>\n",
       "      <td>0.382764</td>\n",
       "      <td>1.028233</td>\n",
       "    </tr>\n",
       "    <tr>\n",
       "      <th>max</th>\n",
       "      <td>1.978532</td>\n",
       "      <td>1.467517</td>\n",
       "      <td>1.699720</td>\n",
       "      <td>2.271579</td>\n",
       "    </tr>\n",
       "  </tbody>\n",
       "</table>\n",
       "</div>"
      ],
      "text/plain": [
       "               A          B          C          D\n",
       "count  10.000000  10.000000  10.000000  10.000000\n",
       "mean    0.287828   0.274577  -0.042679   0.257987\n",
       "std     1.033110   0.715504   0.900898   1.059938\n",
       "min    -1.127986  -0.666542  -1.169284  -1.202017\n",
       "25%    -0.438067  -0.133216  -0.850789  -0.429624\n",
       "50%     0.087133   0.023753   0.245248  -0.011726\n",
       "75%     0.831508   0.720874   0.382764   1.028233\n",
       "max     1.978532   1.467517   1.699720   2.271579"
      ]
     },
     "execution_count": 37,
     "metadata": {},
     "output_type": "execute_result"
    }
   ],
   "source": [
    "\"\"\"3、 describe()函数对于数据的快速统计汇总：\"\"\"\n",
    "df.describe()"
   ]
  },
  {
   "cell_type": "code",
   "execution_count": 39,
   "metadata": {},
   "outputs": [
    {
     "name": "stdout",
     "output_type": "stream",
     "text": [
      "                   A         B         C         D\n",
      "2019-01-22 -0.619592  0.014810 -1.169284 -0.449416\n",
      "2019-01-23 -0.440159 -0.153671 -0.834348 -1.202017\n",
      "2019-01-24  0.727136  0.656800  1.699720  2.271579\n",
      "2019-01-25 -0.158694  0.032695  0.375962 -0.259691\n",
      "2019-01-26 -1.127986  1.224809  0.385031 -0.716630\n",
      "2019-01-27 -0.431793 -0.501032  0.470961  1.092535\n",
      "2019-01-28  1.751580 -0.666542  0.361954  1.142190\n",
      "2019-01-29  0.866299  0.742232 -0.856270  0.236238\n",
      "2019-01-30  1.978532 -0.071853  0.128542 -0.370246\n",
      "2019-01-31  0.332960  1.467517 -0.989058  0.835329\n",
      "   2019-01-22  2019-01-23  2019-01-24  2019-01-25  2019-01-26  2019-01-27  \\\n",
      "A   -0.619592   -0.440159    0.727136   -0.158694   -1.127986   -0.431793   \n",
      "B    0.014810   -0.153671    0.656800    0.032695    1.224809   -0.501032   \n",
      "C   -1.169284   -0.834348    1.699720    0.375962    0.385031    0.470961   \n",
      "D   -0.449416   -1.202017    2.271579   -0.259691   -0.716630    1.092535   \n",
      "\n",
      "   2019-01-28  2019-01-29  2019-01-30  2019-01-31  \n",
      "A    1.751580    0.866299    1.978532    0.332960  \n",
      "B   -0.666542    0.742232   -0.071853    1.467517  \n",
      "C    0.361954   -0.856270    0.128542   -0.989058  \n",
      "D    1.142190    0.236238   -0.370246    0.835329  \n"
     ]
    }
   ],
   "source": [
    "\"\"\"4、 对数据的转置\"\"\"\n",
    "print(df)\n",
    "print(df.T)"
   ]
  },
  {
   "cell_type": "code",
   "execution_count": 40,
   "metadata": {},
   "outputs": [
    {
     "data": {
      "text/html": [
       "<div>\n",
       "<style scoped>\n",
       "    .dataframe tbody tr th:only-of-type {\n",
       "        vertical-align: middle;\n",
       "    }\n",
       "\n",
       "    .dataframe tbody tr th {\n",
       "        vertical-align: top;\n",
       "    }\n",
       "\n",
       "    .dataframe thead th {\n",
       "        text-align: right;\n",
       "    }\n",
       "</style>\n",
       "<table border=\"1\" class=\"dataframe\">\n",
       "  <thead>\n",
       "    <tr style=\"text-align: right;\">\n",
       "      <th></th>\n",
       "      <th>D</th>\n",
       "      <th>C</th>\n",
       "      <th>B</th>\n",
       "      <th>A</th>\n",
       "    </tr>\n",
       "  </thead>\n",
       "  <tbody>\n",
       "    <tr>\n",
       "      <th>2019-01-22</th>\n",
       "      <td>-0.449416</td>\n",
       "      <td>-1.169284</td>\n",
       "      <td>0.014810</td>\n",
       "      <td>-0.619592</td>\n",
       "    </tr>\n",
       "    <tr>\n",
       "      <th>2019-01-23</th>\n",
       "      <td>-1.202017</td>\n",
       "      <td>-0.834348</td>\n",
       "      <td>-0.153671</td>\n",
       "      <td>-0.440159</td>\n",
       "    </tr>\n",
       "    <tr>\n",
       "      <th>2019-01-24</th>\n",
       "      <td>2.271579</td>\n",
       "      <td>1.699720</td>\n",
       "      <td>0.656800</td>\n",
       "      <td>0.727136</td>\n",
       "    </tr>\n",
       "    <tr>\n",
       "      <th>2019-01-25</th>\n",
       "      <td>-0.259691</td>\n",
       "      <td>0.375962</td>\n",
       "      <td>0.032695</td>\n",
       "      <td>-0.158694</td>\n",
       "    </tr>\n",
       "    <tr>\n",
       "      <th>2019-01-26</th>\n",
       "      <td>-0.716630</td>\n",
       "      <td>0.385031</td>\n",
       "      <td>1.224809</td>\n",
       "      <td>-1.127986</td>\n",
       "    </tr>\n",
       "    <tr>\n",
       "      <th>2019-01-27</th>\n",
       "      <td>1.092535</td>\n",
       "      <td>0.470961</td>\n",
       "      <td>-0.501032</td>\n",
       "      <td>-0.431793</td>\n",
       "    </tr>\n",
       "    <tr>\n",
       "      <th>2019-01-28</th>\n",
       "      <td>1.142190</td>\n",
       "      <td>0.361954</td>\n",
       "      <td>-0.666542</td>\n",
       "      <td>1.751580</td>\n",
       "    </tr>\n",
       "    <tr>\n",
       "      <th>2019-01-29</th>\n",
       "      <td>0.236238</td>\n",
       "      <td>-0.856270</td>\n",
       "      <td>0.742232</td>\n",
       "      <td>0.866299</td>\n",
       "    </tr>\n",
       "    <tr>\n",
       "      <th>2019-01-30</th>\n",
       "      <td>-0.370246</td>\n",
       "      <td>0.128542</td>\n",
       "      <td>-0.071853</td>\n",
       "      <td>1.978532</td>\n",
       "    </tr>\n",
       "    <tr>\n",
       "      <th>2019-01-31</th>\n",
       "      <td>0.835329</td>\n",
       "      <td>-0.989058</td>\n",
       "      <td>1.467517</td>\n",
       "      <td>0.332960</td>\n",
       "    </tr>\n",
       "  </tbody>\n",
       "</table>\n",
       "</div>"
      ],
      "text/plain": [
       "                   D         C         B         A\n",
       "2019-01-22 -0.449416 -1.169284  0.014810 -0.619592\n",
       "2019-01-23 -1.202017 -0.834348 -0.153671 -0.440159\n",
       "2019-01-24  2.271579  1.699720  0.656800  0.727136\n",
       "2019-01-25 -0.259691  0.375962  0.032695 -0.158694\n",
       "2019-01-26 -0.716630  0.385031  1.224809 -1.127986\n",
       "2019-01-27  1.092535  0.470961 -0.501032 -0.431793\n",
       "2019-01-28  1.142190  0.361954 -0.666542  1.751580\n",
       "2019-01-29  0.236238 -0.856270  0.742232  0.866299\n",
       "2019-01-30 -0.370246  0.128542 -0.071853  1.978532\n",
       "2019-01-31  0.835329 -0.989058  1.467517  0.332960"
      ]
     },
     "execution_count": 40,
     "metadata": {},
     "output_type": "execute_result"
    }
   ],
   "source": [
    "\"\"\"5、 按轴进行排序\"\"\"\n",
    "df.sort_index(axis = 1, ascending = False)"
   ]
  },
  {
   "cell_type": "code",
   "execution_count": 42,
   "metadata": {},
   "outputs": [
    {
     "data": {
      "text/html": [
       "<div>\n",
       "<style scoped>\n",
       "    .dataframe tbody tr th:only-of-type {\n",
       "        vertical-align: middle;\n",
       "    }\n",
       "\n",
       "    .dataframe tbody tr th {\n",
       "        vertical-align: top;\n",
       "    }\n",
       "\n",
       "    .dataframe thead th {\n",
       "        text-align: right;\n",
       "    }\n",
       "</style>\n",
       "<table border=\"1\" class=\"dataframe\">\n",
       "  <thead>\n",
       "    <tr style=\"text-align: right;\">\n",
       "      <th></th>\n",
       "      <th>A</th>\n",
       "      <th>B</th>\n",
       "      <th>C</th>\n",
       "      <th>D</th>\n",
       "    </tr>\n",
       "  </thead>\n",
       "  <tbody>\n",
       "    <tr>\n",
       "      <th>2019-01-28</th>\n",
       "      <td>1.751580</td>\n",
       "      <td>-0.666542</td>\n",
       "      <td>0.361954</td>\n",
       "      <td>1.142190</td>\n",
       "    </tr>\n",
       "    <tr>\n",
       "      <th>2019-01-27</th>\n",
       "      <td>-0.431793</td>\n",
       "      <td>-0.501032</td>\n",
       "      <td>0.470961</td>\n",
       "      <td>1.092535</td>\n",
       "    </tr>\n",
       "    <tr>\n",
       "      <th>2019-01-23</th>\n",
       "      <td>-0.440159</td>\n",
       "      <td>-0.153671</td>\n",
       "      <td>-0.834348</td>\n",
       "      <td>-1.202017</td>\n",
       "    </tr>\n",
       "    <tr>\n",
       "      <th>2019-01-30</th>\n",
       "      <td>1.978532</td>\n",
       "      <td>-0.071853</td>\n",
       "      <td>0.128542</td>\n",
       "      <td>-0.370246</td>\n",
       "    </tr>\n",
       "    <tr>\n",
       "      <th>2019-01-22</th>\n",
       "      <td>-0.619592</td>\n",
       "      <td>0.014810</td>\n",
       "      <td>-1.169284</td>\n",
       "      <td>-0.449416</td>\n",
       "    </tr>\n",
       "    <tr>\n",
       "      <th>2019-01-25</th>\n",
       "      <td>-0.158694</td>\n",
       "      <td>0.032695</td>\n",
       "      <td>0.375962</td>\n",
       "      <td>-0.259691</td>\n",
       "    </tr>\n",
       "    <tr>\n",
       "      <th>2019-01-24</th>\n",
       "      <td>0.727136</td>\n",
       "      <td>0.656800</td>\n",
       "      <td>1.699720</td>\n",
       "      <td>2.271579</td>\n",
       "    </tr>\n",
       "    <tr>\n",
       "      <th>2019-01-29</th>\n",
       "      <td>0.866299</td>\n",
       "      <td>0.742232</td>\n",
       "      <td>-0.856270</td>\n",
       "      <td>0.236238</td>\n",
       "    </tr>\n",
       "    <tr>\n",
       "      <th>2019-01-26</th>\n",
       "      <td>-1.127986</td>\n",
       "      <td>1.224809</td>\n",
       "      <td>0.385031</td>\n",
       "      <td>-0.716630</td>\n",
       "    </tr>\n",
       "    <tr>\n",
       "      <th>2019-01-31</th>\n",
       "      <td>0.332960</td>\n",
       "      <td>1.467517</td>\n",
       "      <td>-0.989058</td>\n",
       "      <td>0.835329</td>\n",
       "    </tr>\n",
       "  </tbody>\n",
       "</table>\n",
       "</div>"
      ],
      "text/plain": [
       "                   A         B         C         D\n",
       "2019-01-28  1.751580 -0.666542  0.361954  1.142190\n",
       "2019-01-27 -0.431793 -0.501032  0.470961  1.092535\n",
       "2019-01-23 -0.440159 -0.153671 -0.834348 -1.202017\n",
       "2019-01-30  1.978532 -0.071853  0.128542 -0.370246\n",
       "2019-01-22 -0.619592  0.014810 -1.169284 -0.449416\n",
       "2019-01-25 -0.158694  0.032695  0.375962 -0.259691\n",
       "2019-01-24  0.727136  0.656800  1.699720  2.271579\n",
       "2019-01-29  0.866299  0.742232 -0.856270  0.236238\n",
       "2019-01-26 -1.127986  1.224809  0.385031 -0.716630\n",
       "2019-01-31  0.332960  1.467517 -0.989058  0.835329"
      ]
     },
     "execution_count": 42,
     "metadata": {},
     "output_type": "execute_result"
    }
   ],
   "source": [
    "\"\"\"6、 按值进行排序\"\"\"\n",
    "df.sort_values(by = 'B')"
   ]
  },
  {
   "cell_type": "code",
   "execution_count": 44,
   "metadata": {
    "collapsed": true
   },
   "outputs": [],
   "source": [
    "#三、 选择\n",
    "#获取"
   ]
  },
  {
   "cell_type": "code",
   "execution_count": 45,
   "metadata": {},
   "outputs": [
    {
     "data": {
      "text/plain": [
       "2019-01-22   -0.619592\n",
       "2019-01-23   -0.440159\n",
       "2019-01-24    0.727136\n",
       "2019-01-25   -0.158694\n",
       "2019-01-26   -1.127986\n",
       "2019-01-27   -0.431793\n",
       "2019-01-28    1.751580\n",
       "2019-01-29    0.866299\n",
       "2019-01-30    1.978532\n",
       "2019-01-31    0.332960\n",
       "Freq: D, Name: A, dtype: float64"
      ]
     },
     "execution_count": 45,
     "metadata": {},
     "output_type": "execute_result"
    }
   ],
   "source": [
    "\"\"\"1、 选择一个单独的列，这将会返回一个Series，等同于df.A：\"\"\"\n",
    "df['A']"
   ]
  },
  {
   "cell_type": "code",
   "execution_count": 46,
   "metadata": {},
   "outputs": [
    {
     "data": {
      "text/html": [
       "<div>\n",
       "<style scoped>\n",
       "    .dataframe tbody tr th:only-of-type {\n",
       "        vertical-align: middle;\n",
       "    }\n",
       "\n",
       "    .dataframe tbody tr th {\n",
       "        vertical-align: top;\n",
       "    }\n",
       "\n",
       "    .dataframe thead th {\n",
       "        text-align: right;\n",
       "    }\n",
       "</style>\n",
       "<table border=\"1\" class=\"dataframe\">\n",
       "  <thead>\n",
       "    <tr style=\"text-align: right;\">\n",
       "      <th></th>\n",
       "      <th>A</th>\n",
       "      <th>B</th>\n",
       "      <th>C</th>\n",
       "      <th>D</th>\n",
       "    </tr>\n",
       "  </thead>\n",
       "  <tbody>\n",
       "    <tr>\n",
       "      <th>2019-01-22</th>\n",
       "      <td>-0.619592</td>\n",
       "      <td>0.014810</td>\n",
       "      <td>-1.169284</td>\n",
       "      <td>-0.449416</td>\n",
       "    </tr>\n",
       "    <tr>\n",
       "      <th>2019-01-23</th>\n",
       "      <td>-0.440159</td>\n",
       "      <td>-0.153671</td>\n",
       "      <td>-0.834348</td>\n",
       "      <td>-1.202017</td>\n",
       "    </tr>\n",
       "    <tr>\n",
       "      <th>2019-01-24</th>\n",
       "      <td>0.727136</td>\n",
       "      <td>0.656800</td>\n",
       "      <td>1.699720</td>\n",
       "      <td>2.271579</td>\n",
       "    </tr>\n",
       "  </tbody>\n",
       "</table>\n",
       "</div>"
      ],
      "text/plain": [
       "                   A         B         C         D\n",
       "2019-01-22 -0.619592  0.014810 -1.169284 -0.449416\n",
       "2019-01-23 -0.440159 -0.153671 -0.834348 -1.202017\n",
       "2019-01-24  0.727136  0.656800  1.699720  2.271579"
      ]
     },
     "execution_count": 46,
     "metadata": {},
     "output_type": "execute_result"
    }
   ],
   "source": [
    "\"\"\"2、 通过[]进行选择，这将会对行进行切片\"\"\"\n",
    "df[0:3]"
   ]
  },
  {
   "cell_type": "code",
   "execution_count": 47,
   "metadata": {},
   "outputs": [
    {
     "data": {
      "text/html": [
       "<div>\n",
       "<style scoped>\n",
       "    .dataframe tbody tr th:only-of-type {\n",
       "        vertical-align: middle;\n",
       "    }\n",
       "\n",
       "    .dataframe tbody tr th {\n",
       "        vertical-align: top;\n",
       "    }\n",
       "\n",
       "    .dataframe thead th {\n",
       "        text-align: right;\n",
       "    }\n",
       "</style>\n",
       "<table border=\"1\" class=\"dataframe\">\n",
       "  <thead>\n",
       "    <tr style=\"text-align: right;\">\n",
       "      <th></th>\n",
       "      <th>A</th>\n",
       "      <th>B</th>\n",
       "      <th>C</th>\n",
       "      <th>D</th>\n",
       "    </tr>\n",
       "  </thead>\n",
       "  <tbody>\n",
       "    <tr>\n",
       "      <th>2019-01-22</th>\n",
       "      <td>-0.619592</td>\n",
       "      <td>0.014810</td>\n",
       "      <td>-1.169284</td>\n",
       "      <td>-0.449416</td>\n",
       "    </tr>\n",
       "    <tr>\n",
       "      <th>2019-01-23</th>\n",
       "      <td>-0.440159</td>\n",
       "      <td>-0.153671</td>\n",
       "      <td>-0.834348</td>\n",
       "      <td>-1.202017</td>\n",
       "    </tr>\n",
       "    <tr>\n",
       "      <th>2019-01-24</th>\n",
       "      <td>0.727136</td>\n",
       "      <td>0.656800</td>\n",
       "      <td>1.699720</td>\n",
       "      <td>2.271579</td>\n",
       "    </tr>\n",
       "    <tr>\n",
       "      <th>2019-01-25</th>\n",
       "      <td>-0.158694</td>\n",
       "      <td>0.032695</td>\n",
       "      <td>0.375962</td>\n",
       "      <td>-0.259691</td>\n",
       "    </tr>\n",
       "    <tr>\n",
       "      <th>2019-01-26</th>\n",
       "      <td>-1.127986</td>\n",
       "      <td>1.224809</td>\n",
       "      <td>0.385031</td>\n",
       "      <td>-0.716630</td>\n",
       "    </tr>\n",
       "    <tr>\n",
       "      <th>2019-01-27</th>\n",
       "      <td>-0.431793</td>\n",
       "      <td>-0.501032</td>\n",
       "      <td>0.470961</td>\n",
       "      <td>1.092535</td>\n",
       "    </tr>\n",
       "    <tr>\n",
       "      <th>2019-01-28</th>\n",
       "      <td>1.751580</td>\n",
       "      <td>-0.666542</td>\n",
       "      <td>0.361954</td>\n",
       "      <td>1.142190</td>\n",
       "    </tr>\n",
       "    <tr>\n",
       "      <th>2019-01-29</th>\n",
       "      <td>0.866299</td>\n",
       "      <td>0.742232</td>\n",
       "      <td>-0.856270</td>\n",
       "      <td>0.236238</td>\n",
       "    </tr>\n",
       "  </tbody>\n",
       "</table>\n",
       "</div>"
      ],
      "text/plain": [
       "                   A         B         C         D\n",
       "2019-01-22 -0.619592  0.014810 -1.169284 -0.449416\n",
       "2019-01-23 -0.440159 -0.153671 -0.834348 -1.202017\n",
       "2019-01-24  0.727136  0.656800  1.699720  2.271579\n",
       "2019-01-25 -0.158694  0.032695  0.375962 -0.259691\n",
       "2019-01-26 -1.127986  1.224809  0.385031 -0.716630\n",
       "2019-01-27 -0.431793 -0.501032  0.470961  1.092535\n",
       "2019-01-28  1.751580 -0.666542  0.361954  1.142190\n",
       "2019-01-29  0.866299  0.742232 -0.856270  0.236238"
      ]
     },
     "execution_count": 47,
     "metadata": {},
     "output_type": "execute_result"
    }
   ],
   "source": [
    "df['2019-01-22':'2019-01-29']"
   ]
  },
  {
   "cell_type": "code",
   "execution_count": 48,
   "metadata": {
    "collapsed": true
   },
   "outputs": [],
   "source": [
    "#通过标签选择"
   ]
  },
  {
   "cell_type": "code",
   "execution_count": 49,
   "metadata": {},
   "outputs": [
    {
     "data": {
      "text/plain": [
       "A   -0.619592\n",
       "B    0.014810\n",
       "C   -1.169284\n",
       "D   -0.449416\n",
       "Name: 2019-01-22 00:00:00, dtype: float64"
      ]
     },
     "execution_count": 49,
     "metadata": {},
     "output_type": "execute_result"
    }
   ],
   "source": [
    "\"\"\"1、 使用标签来获取一个交叉的区域\"\"\"\n",
    "df.loc[dates[0]]"
   ]
  },
  {
   "cell_type": "code",
   "execution_count": 51,
   "metadata": {},
   "outputs": [
    {
     "data": {
      "text/html": [
       "<div>\n",
       "<style scoped>\n",
       "    .dataframe tbody tr th:only-of-type {\n",
       "        vertical-align: middle;\n",
       "    }\n",
       "\n",
       "    .dataframe tbody tr th {\n",
       "        vertical-align: top;\n",
       "    }\n",
       "\n",
       "    .dataframe thead th {\n",
       "        text-align: right;\n",
       "    }\n",
       "</style>\n",
       "<table border=\"1\" class=\"dataframe\">\n",
       "  <thead>\n",
       "    <tr style=\"text-align: right;\">\n",
       "      <th></th>\n",
       "      <th>A</th>\n",
       "      <th>B</th>\n",
       "    </tr>\n",
       "  </thead>\n",
       "  <tbody>\n",
       "    <tr>\n",
       "      <th>2019-01-22</th>\n",
       "      <td>-0.619592</td>\n",
       "      <td>0.014810</td>\n",
       "    </tr>\n",
       "    <tr>\n",
       "      <th>2019-01-23</th>\n",
       "      <td>-0.440159</td>\n",
       "      <td>-0.153671</td>\n",
       "    </tr>\n",
       "    <tr>\n",
       "      <th>2019-01-24</th>\n",
       "      <td>0.727136</td>\n",
       "      <td>0.656800</td>\n",
       "    </tr>\n",
       "    <tr>\n",
       "      <th>2019-01-25</th>\n",
       "      <td>-0.158694</td>\n",
       "      <td>0.032695</td>\n",
       "    </tr>\n",
       "    <tr>\n",
       "      <th>2019-01-26</th>\n",
       "      <td>-1.127986</td>\n",
       "      <td>1.224809</td>\n",
       "    </tr>\n",
       "    <tr>\n",
       "      <th>2019-01-27</th>\n",
       "      <td>-0.431793</td>\n",
       "      <td>-0.501032</td>\n",
       "    </tr>\n",
       "    <tr>\n",
       "      <th>2019-01-28</th>\n",
       "      <td>1.751580</td>\n",
       "      <td>-0.666542</td>\n",
       "    </tr>\n",
       "    <tr>\n",
       "      <th>2019-01-29</th>\n",
       "      <td>0.866299</td>\n",
       "      <td>0.742232</td>\n",
       "    </tr>\n",
       "    <tr>\n",
       "      <th>2019-01-30</th>\n",
       "      <td>1.978532</td>\n",
       "      <td>-0.071853</td>\n",
       "    </tr>\n",
       "    <tr>\n",
       "      <th>2019-01-31</th>\n",
       "      <td>0.332960</td>\n",
       "      <td>1.467517</td>\n",
       "    </tr>\n",
       "  </tbody>\n",
       "</table>\n",
       "</div>"
      ],
      "text/plain": [
       "                   A         B\n",
       "2019-01-22 -0.619592  0.014810\n",
       "2019-01-23 -0.440159 -0.153671\n",
       "2019-01-24  0.727136  0.656800\n",
       "2019-01-25 -0.158694  0.032695\n",
       "2019-01-26 -1.127986  1.224809\n",
       "2019-01-27 -0.431793 -0.501032\n",
       "2019-01-28  1.751580 -0.666542\n",
       "2019-01-29  0.866299  0.742232\n",
       "2019-01-30  1.978532 -0.071853\n",
       "2019-01-31  0.332960  1.467517"
      ]
     },
     "execution_count": 51,
     "metadata": {},
     "output_type": "execute_result"
    }
   ],
   "source": [
    "\"\"\"2、 通过标签来在多个轴上进行选择\"\"\"\n",
    "df.loc[:, ['A','B']]"
   ]
  },
  {
   "cell_type": "code",
   "execution_count": 52,
   "metadata": {},
   "outputs": [
    {
     "data": {
      "text/html": [
       "<div>\n",
       "<style scoped>\n",
       "    .dataframe tbody tr th:only-of-type {\n",
       "        vertical-align: middle;\n",
       "    }\n",
       "\n",
       "    .dataframe tbody tr th {\n",
       "        vertical-align: top;\n",
       "    }\n",
       "\n",
       "    .dataframe thead th {\n",
       "        text-align: right;\n",
       "    }\n",
       "</style>\n",
       "<table border=\"1\" class=\"dataframe\">\n",
       "  <thead>\n",
       "    <tr style=\"text-align: right;\">\n",
       "      <th></th>\n",
       "      <th>A</th>\n",
       "      <th>B</th>\n",
       "    </tr>\n",
       "  </thead>\n",
       "  <tbody>\n",
       "    <tr>\n",
       "      <th>2019-01-22</th>\n",
       "      <td>-0.619592</td>\n",
       "      <td>0.014810</td>\n",
       "    </tr>\n",
       "    <tr>\n",
       "      <th>2019-01-23</th>\n",
       "      <td>-0.440159</td>\n",
       "      <td>-0.153671</td>\n",
       "    </tr>\n",
       "    <tr>\n",
       "      <th>2019-01-24</th>\n",
       "      <td>0.727136</td>\n",
       "      <td>0.656800</td>\n",
       "    </tr>\n",
       "    <tr>\n",
       "      <th>2019-01-25</th>\n",
       "      <td>-0.158694</td>\n",
       "      <td>0.032695</td>\n",
       "    </tr>\n",
       "    <tr>\n",
       "      <th>2019-01-26</th>\n",
       "      <td>-1.127986</td>\n",
       "      <td>1.224809</td>\n",
       "    </tr>\n",
       "    <tr>\n",
       "      <th>2019-01-27</th>\n",
       "      <td>-0.431793</td>\n",
       "      <td>-0.501032</td>\n",
       "    </tr>\n",
       "    <tr>\n",
       "      <th>2019-01-28</th>\n",
       "      <td>1.751580</td>\n",
       "      <td>-0.666542</td>\n",
       "    </tr>\n",
       "    <tr>\n",
       "      <th>2019-01-29</th>\n",
       "      <td>0.866299</td>\n",
       "      <td>0.742232</td>\n",
       "    </tr>\n",
       "  </tbody>\n",
       "</table>\n",
       "</div>"
      ],
      "text/plain": [
       "                   A         B\n",
       "2019-01-22 -0.619592  0.014810\n",
       "2019-01-23 -0.440159 -0.153671\n",
       "2019-01-24  0.727136  0.656800\n",
       "2019-01-25 -0.158694  0.032695\n",
       "2019-01-26 -1.127986  1.224809\n",
       "2019-01-27 -0.431793 -0.501032\n",
       "2019-01-28  1.751580 -0.666542\n",
       "2019-01-29  0.866299  0.742232"
      ]
     },
     "execution_count": 52,
     "metadata": {},
     "output_type": "execute_result"
    }
   ],
   "source": [
    "\"\"\"3、 标签切片\"\"\"\n",
    "df.loc['2019-01-22':'2019-01-29', ['A', 'B']]"
   ]
  },
  {
   "cell_type": "code",
   "execution_count": 53,
   "metadata": {},
   "outputs": [
    {
     "data": {
      "text/plain": [
       "A   -0.619592\n",
       "B    0.014810\n",
       "Name: 2019-01-22 00:00:00, dtype: float64"
      ]
     },
     "execution_count": 53,
     "metadata": {},
     "output_type": "execute_result"
    }
   ],
   "source": [
    "\"\"\"4、 对于返回的对象进行维度缩减\"\"\"\n",
    "df.loc['2019-01-22', ['A', 'B']]"
   ]
  },
  {
   "cell_type": "code",
   "execution_count": 54,
   "metadata": {},
   "outputs": [
    {
     "data": {
      "text/plain": [
       "A   -0.619592\n",
       "Name: 2019-01-22 00:00:00, dtype: float64"
      ]
     },
     "execution_count": 54,
     "metadata": {},
     "output_type": "execute_result"
    }
   ],
   "source": [
    "\"\"\"5、 获取一个标量\"\"\"\n",
    "df.loc[dates[0], ['A']]"
   ]
  },
  {
   "cell_type": "code",
   "execution_count": 56,
   "metadata": {},
   "outputs": [
    {
     "data": {
      "text/plain": [
       "-0.6195920182364392"
      ]
     },
     "execution_count": 56,
     "metadata": {},
     "output_type": "execute_result"
    }
   ],
   "source": [
    "\"\"\"6、 快速访问一个标量（与上一个方法等价）\n",
    "\n",
    "\"\"\"\n",
    "df.at[dates[0], 'A']"
   ]
  },
  {
   "cell_type": "code",
   "execution_count": null,
   "metadata": {
    "collapsed": true
   },
   "outputs": [],
   "source": []
  }
 ],
 "metadata": {
  "kernelspec": {
   "display_name": "Python 3",
   "language": "python",
   "name": "python3"
  },
  "language_info": {
   "codemirror_mode": {
    "name": "ipython",
    "version": 3
   },
   "file_extension": ".py",
   "mimetype": "text/x-python",
   "name": "python",
   "nbconvert_exporter": "python",
   "pygments_lexer": "ipython3",
   "version": "3.6.3"
  }
 },
 "nbformat": 4,
 "nbformat_minor": 2
}
