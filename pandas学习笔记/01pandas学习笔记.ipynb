{
 "cells": [
  {
   "cell_type": "code",
   "execution_count": 3,
   "metadata": {
    "collapsed": true
   },
   "outputs": [],
   "source": [
    "#一、 创建对象\n",
    "import numpy as np\n",
    "import pandas as pd\n",
    "import matplotlib.pyplot as plt"
   ]
  },
  {
   "cell_type": "code",
   "execution_count": 4,
   "metadata": {},
   "outputs": [
    {
     "name": "stdout",
     "output_type": "stream",
     "text": [
      "0    1.0\n",
      "1    2.0\n",
      "2    3.0\n",
      "3    4.0\n",
      "4    NaN\n",
      "5    5.0\n",
      "dtype: float64\n"
     ]
    }
   ],
   "source": [
    "\"\"\"1、可以通过传递一个list对象来创建一个Series，pandas 会默认创建整型索引：\"\"\"\n",
    "a = pd.Series([1, 2 ,3 ,4, np.nan, 5])\n",
    "print(a)"
   ]
  },
  {
   "cell_type": "code",
   "execution_count": 6,
   "metadata": {},
   "outputs": [
    {
     "name": "stdout",
     "output_type": "stream",
     "text": [
      "DatetimeIndex(['2019-01-22', '2019-01-23', '2019-01-24', '2019-01-25',\n",
      "               '2019-01-26', '2019-01-27', '2019-01-28', '2019-01-29',\n",
      "               '2019-01-30', '2019-01-31'],\n",
      "              dtype='datetime64[ns]', freq='D')\n"
     ]
    }
   ],
   "source": [
    "\"\"\"2、通过传递一个 numpyarray，时间索引以及列标签来创建一个DataFrame：\"\"\"\n",
    "dates = pd.date_range('20190122', periods = 10)\n",
    "print(dates)"
   ]
  },
  {
   "cell_type": "code",
   "execution_count": 7,
   "metadata": {},
   "outputs": [
    {
     "name": "stdout",
     "output_type": "stream",
     "text": [
      "                   A         B         C         D\n",
      "2019-01-22 -2.708325 -0.135458  0.709272  0.173464\n",
      "2019-01-23 -1.970289  0.602917  1.763366 -0.706019\n",
      "2019-01-24 -1.535866 -0.154534 -0.201280  0.754136\n",
      "2019-01-25 -2.427547  1.537001  0.538868  0.303480\n",
      "2019-01-26  0.204531 -0.613017  0.288566 -1.714459\n",
      "2019-01-27  2.970017 -0.123039  2.285839  0.507768\n",
      "2019-01-28  0.625932 -0.641523 -0.663458 -2.070671\n",
      "2019-01-29 -0.848009 -0.374788 -0.772455 -0.526751\n",
      "2019-01-30 -0.619652 -0.260988  1.033797  1.182345\n",
      "2019-01-31 -0.174840 -0.079134 -0.562533  2.069970\n"
     ]
    }
   ],
   "source": [
    "df = pd.DataFrame(np.random.randn(10, 4), index = dates, columns = list('ABCD')) #DataFrame数据框架\n",
    "print(df) "
   ]
  },
  {
   "cell_type": "code",
   "execution_count": 8,
   "metadata": {},
   "outputs": [
    {
     "name": "stdout",
     "output_type": "stream",
     "text": [
      "     A          B    C  D      E    F\n",
      "0  1.0 2019-01-22  1.0  3   test  foo\n",
      "1  1.0 2019-01-22  1.0  3  train  foo\n",
      "2  1.0 2019-01-22  1.0  3   test  foo\n",
      "3  1.0 2019-01-22  1.0  3  train  foo\n"
     ]
    }
   ],
   "source": [
    "\"\"\"3、通过传递一个能够被转换成类似序列结构的字典对象来创建一个DataFrame：\"\"\"\n",
    "df2 = pd.DataFrame({'A' : 1.,\n",
    "                    'B' : pd.Timestamp('20190122'),\n",
    "                    'C' : pd.Series(1, index = list(range(4)), dtype = 'float64'),\n",
    "                    'D' : np.array([3] * 4, dtype = 'int64'),\n",
    "                    'E' : pd.Categorical([\"test\", \"train\", \"test\", \"train\"]),\n",
    "                    'F' : 'foo'\n",
    "                   })\n",
    "print(df2)"
   ]
  },
  {
   "cell_type": "code",
   "execution_count": 9,
   "metadata": {},
   "outputs": [
    {
     "data": {
      "text/plain": [
       "A           float64\n",
       "B    datetime64[ns]\n",
       "C           float64\n",
       "D             int64\n",
       "E          category\n",
       "F            object\n",
       "dtype: object"
      ]
     },
     "execution_count": 9,
     "metadata": {},
     "output_type": "execute_result"
    }
   ],
   "source": [
    "\"\"\"4、查看不同列的数据类型：\"\"\"\n",
    "df2.dtypes"
   ]
  },
  {
   "cell_type": "code",
   "execution_count": 10,
   "metadata": {},
   "outputs": [
    {
     "data": {
      "text/plain": [
       "'5、如果你使用的是 IPython，使用 Tab 自动补全功能会自动识别所有的属性以及自定义的列，下图中是所有能够被自动识别的属性的一个子集：'"
      ]
     },
     "execution_count": 10,
     "metadata": {},
     "output_type": "execute_result"
    }
   ],
   "source": [
    "\"\"\"5、如果你使用的是 IPython，使用 Tab 自动补全功能会自动识别所有的属性以及自定义的列，下图中是所有能够被自动识别的属性的一个子集：\"\"\"\n",
    "#df2.<TAB>"
   ]
  },
  {
   "cell_type": "code",
   "execution_count": 11,
   "metadata": {
    "collapsed": true
   },
   "outputs": [],
   "source": [
    "#二、 查看数据"
   ]
  },
  {
   "cell_type": "code",
   "execution_count": 12,
   "metadata": {},
   "outputs": [
    {
     "data": {
      "text/html": [
       "<div>\n",
       "<style scoped>\n",
       "    .dataframe tbody tr th:only-of-type {\n",
       "        vertical-align: middle;\n",
       "    }\n",
       "\n",
       "    .dataframe tbody tr th {\n",
       "        vertical-align: top;\n",
       "    }\n",
       "\n",
       "    .dataframe thead th {\n",
       "        text-align: right;\n",
       "    }\n",
       "</style>\n",
       "<table border=\"1\" class=\"dataframe\">\n",
       "  <thead>\n",
       "    <tr style=\"text-align: right;\">\n",
       "      <th></th>\n",
       "      <th>A</th>\n",
       "      <th>B</th>\n",
       "      <th>C</th>\n",
       "      <th>D</th>\n",
       "    </tr>\n",
       "  </thead>\n",
       "  <tbody>\n",
       "    <tr>\n",
       "      <th>2019-01-22</th>\n",
       "      <td>-2.708325</td>\n",
       "      <td>-0.135458</td>\n",
       "      <td>0.709272</td>\n",
       "      <td>0.173464</td>\n",
       "    </tr>\n",
       "    <tr>\n",
       "      <th>2019-01-23</th>\n",
       "      <td>-1.970289</td>\n",
       "      <td>0.602917</td>\n",
       "      <td>1.763366</td>\n",
       "      <td>-0.706019</td>\n",
       "    </tr>\n",
       "    <tr>\n",
       "      <th>2019-01-24</th>\n",
       "      <td>-1.535866</td>\n",
       "      <td>-0.154534</td>\n",
       "      <td>-0.201280</td>\n",
       "      <td>0.754136</td>\n",
       "    </tr>\n",
       "    <tr>\n",
       "      <th>2019-01-25</th>\n",
       "      <td>-2.427547</td>\n",
       "      <td>1.537001</td>\n",
       "      <td>0.538868</td>\n",
       "      <td>0.303480</td>\n",
       "    </tr>\n",
       "    <tr>\n",
       "      <th>2019-01-26</th>\n",
       "      <td>0.204531</td>\n",
       "      <td>-0.613017</td>\n",
       "      <td>0.288566</td>\n",
       "      <td>-1.714459</td>\n",
       "    </tr>\n",
       "  </tbody>\n",
       "</table>\n",
       "</div>"
      ],
      "text/plain": [
       "                   A         B         C         D\n",
       "2019-01-22 -2.708325 -0.135458  0.709272  0.173464\n",
       "2019-01-23 -1.970289  0.602917  1.763366 -0.706019\n",
       "2019-01-24 -1.535866 -0.154534 -0.201280  0.754136\n",
       "2019-01-25 -2.427547  1.537001  0.538868  0.303480\n",
       "2019-01-26  0.204531 -0.613017  0.288566 -1.714459"
      ]
     },
     "execution_count": 12,
     "metadata": {},
     "output_type": "execute_result"
    }
   ],
   "source": [
    "\"\"\"1、 查看DataFrame中头部和尾部的行：\"\"\"\n",
    "df.head()"
   ]
  },
  {
   "cell_type": "code",
   "execution_count": 13,
   "metadata": {},
   "outputs": [
    {
     "data": {
      "text/html": [
       "<div>\n",
       "<style scoped>\n",
       "    .dataframe tbody tr th:only-of-type {\n",
       "        vertical-align: middle;\n",
       "    }\n",
       "\n",
       "    .dataframe tbody tr th {\n",
       "        vertical-align: top;\n",
       "    }\n",
       "\n",
       "    .dataframe thead th {\n",
       "        text-align: right;\n",
       "    }\n",
       "</style>\n",
       "<table border=\"1\" class=\"dataframe\">\n",
       "  <thead>\n",
       "    <tr style=\"text-align: right;\">\n",
       "      <th></th>\n",
       "      <th>A</th>\n",
       "      <th>B</th>\n",
       "      <th>C</th>\n",
       "      <th>D</th>\n",
       "    </tr>\n",
       "  </thead>\n",
       "  <tbody>\n",
       "    <tr>\n",
       "      <th>2019-01-29</th>\n",
       "      <td>-0.848009</td>\n",
       "      <td>-0.374788</td>\n",
       "      <td>-0.772455</td>\n",
       "      <td>-0.526751</td>\n",
       "    </tr>\n",
       "    <tr>\n",
       "      <th>2019-01-30</th>\n",
       "      <td>-0.619652</td>\n",
       "      <td>-0.260988</td>\n",
       "      <td>1.033797</td>\n",
       "      <td>1.182345</td>\n",
       "    </tr>\n",
       "    <tr>\n",
       "      <th>2019-01-31</th>\n",
       "      <td>-0.174840</td>\n",
       "      <td>-0.079134</td>\n",
       "      <td>-0.562533</td>\n",
       "      <td>2.069970</td>\n",
       "    </tr>\n",
       "  </tbody>\n",
       "</table>\n",
       "</div>"
      ],
      "text/plain": [
       "                   A         B         C         D\n",
       "2019-01-29 -0.848009 -0.374788 -0.772455 -0.526751\n",
       "2019-01-30 -0.619652 -0.260988  1.033797  1.182345\n",
       "2019-01-31 -0.174840 -0.079134 -0.562533  2.069970"
      ]
     },
     "execution_count": 13,
     "metadata": {},
     "output_type": "execute_result"
    }
   ],
   "source": [
    "df.tail(3)"
   ]
  },
  {
   "cell_type": "code",
   "execution_count": 14,
   "metadata": {},
   "outputs": [
    {
     "data": {
      "text/plain": [
       "Index(['A', 'B', 'C', 'D'], dtype='object')"
      ]
     },
     "execution_count": 14,
     "metadata": {},
     "output_type": "execute_result"
    }
   ],
   "source": [
    "\"\"\"2、 显示索引、列和底层的 numpy 数据：\"\"\"\n",
    "df.columns #columns ->列"
   ]
  },
  {
   "cell_type": "code",
   "execution_count": 15,
   "metadata": {},
   "outputs": [
    {
     "data": {
      "text/plain": [
       "array([[-2.70832541, -0.135458  ,  0.70927204,  0.1734638 ],\n",
       "       [-1.97028937,  0.60291702,  1.76336613, -0.70601891],\n",
       "       [-1.53586585, -0.15453409, -0.20127956,  0.75413639],\n",
       "       [-2.42754674,  1.53700098,  0.53886783,  0.30348044],\n",
       "       [ 0.20453072, -0.61301668,  0.28856556, -1.7144591 ],\n",
       "       [ 2.97001734, -0.12303919,  2.28583939,  0.50776823],\n",
       "       [ 0.62593244, -0.64152332, -0.66345809, -2.07067089],\n",
       "       [-0.84800927, -0.37478761, -0.77245518, -0.52675094],\n",
       "       [-0.61965184, -0.26098817,  1.03379747,  1.1823449 ],\n",
       "       [-0.17484048, -0.07913398, -0.56253337,  2.06996983]])"
      ]
     },
     "execution_count": 15,
     "metadata": {},
     "output_type": "execute_result"
    }
   ],
   "source": [
    "df.values"
   ]
  },
  {
   "cell_type": "code",
   "execution_count": 16,
   "metadata": {},
   "outputs": [
    {
     "data": {
      "text/html": [
       "<div>\n",
       "<style scoped>\n",
       "    .dataframe tbody tr th:only-of-type {\n",
       "        vertical-align: middle;\n",
       "    }\n",
       "\n",
       "    .dataframe tbody tr th {\n",
       "        vertical-align: top;\n",
       "    }\n",
       "\n",
       "    .dataframe thead th {\n",
       "        text-align: right;\n",
       "    }\n",
       "</style>\n",
       "<table border=\"1\" class=\"dataframe\">\n",
       "  <thead>\n",
       "    <tr style=\"text-align: right;\">\n",
       "      <th></th>\n",
       "      <th>A</th>\n",
       "      <th>B</th>\n",
       "      <th>C</th>\n",
       "      <th>D</th>\n",
       "    </tr>\n",
       "  </thead>\n",
       "  <tbody>\n",
       "    <tr>\n",
       "      <th>count</th>\n",
       "      <td>10.000000</td>\n",
       "      <td>10.000000</td>\n",
       "      <td>10.000000</td>\n",
       "      <td>10.000000</td>\n",
       "    </tr>\n",
       "    <tr>\n",
       "      <th>mean</th>\n",
       "      <td>-0.648405</td>\n",
       "      <td>-0.024256</td>\n",
       "      <td>0.441998</td>\n",
       "      <td>-0.002674</td>\n",
       "    </tr>\n",
       "    <tr>\n",
       "      <th>std</th>\n",
       "      <td>1.688291</td>\n",
       "      <td>0.648035</td>\n",
       "      <td>1.039240</td>\n",
       "      <td>1.275163</td>\n",
       "    </tr>\n",
       "    <tr>\n",
       "      <th>min</th>\n",
       "      <td>-2.708325</td>\n",
       "      <td>-0.641523</td>\n",
       "      <td>-0.772455</td>\n",
       "      <td>-2.070671</td>\n",
       "    </tr>\n",
       "    <tr>\n",
       "      <th>25%</th>\n",
       "      <td>-1.861683</td>\n",
       "      <td>-0.346338</td>\n",
       "      <td>-0.472220</td>\n",
       "      <td>-0.661202</td>\n",
       "    </tr>\n",
       "    <tr>\n",
       "      <th>50%</th>\n",
       "      <td>-0.733831</td>\n",
       "      <td>-0.144996</td>\n",
       "      <td>0.413717</td>\n",
       "      <td>0.238472</td>\n",
       "    </tr>\n",
       "    <tr>\n",
       "      <th>75%</th>\n",
       "      <td>0.109688</td>\n",
       "      <td>-0.090110</td>\n",
       "      <td>0.952666</td>\n",
       "      <td>0.692544</td>\n",
       "    </tr>\n",
       "    <tr>\n",
       "      <th>max</th>\n",
       "      <td>2.970017</td>\n",
       "      <td>1.537001</td>\n",
       "      <td>2.285839</td>\n",
       "      <td>2.069970</td>\n",
       "    </tr>\n",
       "  </tbody>\n",
       "</table>\n",
       "</div>"
      ],
      "text/plain": [
       "               A          B          C          D\n",
       "count  10.000000  10.000000  10.000000  10.000000\n",
       "mean   -0.648405  -0.024256   0.441998  -0.002674\n",
       "std     1.688291   0.648035   1.039240   1.275163\n",
       "min    -2.708325  -0.641523  -0.772455  -2.070671\n",
       "25%    -1.861683  -0.346338  -0.472220  -0.661202\n",
       "50%    -0.733831  -0.144996   0.413717   0.238472\n",
       "75%     0.109688  -0.090110   0.952666   0.692544\n",
       "max     2.970017   1.537001   2.285839   2.069970"
      ]
     },
     "execution_count": 16,
     "metadata": {},
     "output_type": "execute_result"
    }
   ],
   "source": [
    "\"\"\"3、 describe()函数对于数据的快速统计汇总：\"\"\"\n",
    "df.describe()"
   ]
  },
  {
   "cell_type": "code",
   "execution_count": 17,
   "metadata": {},
   "outputs": [
    {
     "name": "stdout",
     "output_type": "stream",
     "text": [
      "                   A         B         C         D\n",
      "2019-01-22 -2.708325 -0.135458  0.709272  0.173464\n",
      "2019-01-23 -1.970289  0.602917  1.763366 -0.706019\n",
      "2019-01-24 -1.535866 -0.154534 -0.201280  0.754136\n",
      "2019-01-25 -2.427547  1.537001  0.538868  0.303480\n",
      "2019-01-26  0.204531 -0.613017  0.288566 -1.714459\n",
      "2019-01-27  2.970017 -0.123039  2.285839  0.507768\n",
      "2019-01-28  0.625932 -0.641523 -0.663458 -2.070671\n",
      "2019-01-29 -0.848009 -0.374788 -0.772455 -0.526751\n",
      "2019-01-30 -0.619652 -0.260988  1.033797  1.182345\n",
      "2019-01-31 -0.174840 -0.079134 -0.562533  2.069970\n",
      "   2019-01-22  2019-01-23  2019-01-24  2019-01-25  2019-01-26  2019-01-27  \\\n",
      "A   -2.708325   -1.970289   -1.535866   -2.427547    0.204531    2.970017   \n",
      "B   -0.135458    0.602917   -0.154534    1.537001   -0.613017   -0.123039   \n",
      "C    0.709272    1.763366   -0.201280    0.538868    0.288566    2.285839   \n",
      "D    0.173464   -0.706019    0.754136    0.303480   -1.714459    0.507768   \n",
      "\n",
      "   2019-01-28  2019-01-29  2019-01-30  2019-01-31  \n",
      "A    0.625932   -0.848009   -0.619652   -0.174840  \n",
      "B   -0.641523   -0.374788   -0.260988   -0.079134  \n",
      "C   -0.663458   -0.772455    1.033797   -0.562533  \n",
      "D   -2.070671   -0.526751    1.182345    2.069970  \n"
     ]
    }
   ],
   "source": [
    "\"\"\"4、 对数据的转置\"\"\"\n",
    "print(df)\n",
    "print(df.T)"
   ]
  },
  {
   "cell_type": "code",
   "execution_count": 18,
   "metadata": {},
   "outputs": [
    {
     "data": {
      "text/html": [
       "<div>\n",
       "<style scoped>\n",
       "    .dataframe tbody tr th:only-of-type {\n",
       "        vertical-align: middle;\n",
       "    }\n",
       "\n",
       "    .dataframe tbody tr th {\n",
       "        vertical-align: top;\n",
       "    }\n",
       "\n",
       "    .dataframe thead th {\n",
       "        text-align: right;\n",
       "    }\n",
       "</style>\n",
       "<table border=\"1\" class=\"dataframe\">\n",
       "  <thead>\n",
       "    <tr style=\"text-align: right;\">\n",
       "      <th></th>\n",
       "      <th>D</th>\n",
       "      <th>C</th>\n",
       "      <th>B</th>\n",
       "      <th>A</th>\n",
       "    </tr>\n",
       "  </thead>\n",
       "  <tbody>\n",
       "    <tr>\n",
       "      <th>2019-01-22</th>\n",
       "      <td>0.173464</td>\n",
       "      <td>0.709272</td>\n",
       "      <td>-0.135458</td>\n",
       "      <td>-2.708325</td>\n",
       "    </tr>\n",
       "    <tr>\n",
       "      <th>2019-01-23</th>\n",
       "      <td>-0.706019</td>\n",
       "      <td>1.763366</td>\n",
       "      <td>0.602917</td>\n",
       "      <td>-1.970289</td>\n",
       "    </tr>\n",
       "    <tr>\n",
       "      <th>2019-01-24</th>\n",
       "      <td>0.754136</td>\n",
       "      <td>-0.201280</td>\n",
       "      <td>-0.154534</td>\n",
       "      <td>-1.535866</td>\n",
       "    </tr>\n",
       "    <tr>\n",
       "      <th>2019-01-25</th>\n",
       "      <td>0.303480</td>\n",
       "      <td>0.538868</td>\n",
       "      <td>1.537001</td>\n",
       "      <td>-2.427547</td>\n",
       "    </tr>\n",
       "    <tr>\n",
       "      <th>2019-01-26</th>\n",
       "      <td>-1.714459</td>\n",
       "      <td>0.288566</td>\n",
       "      <td>-0.613017</td>\n",
       "      <td>0.204531</td>\n",
       "    </tr>\n",
       "    <tr>\n",
       "      <th>2019-01-27</th>\n",
       "      <td>0.507768</td>\n",
       "      <td>2.285839</td>\n",
       "      <td>-0.123039</td>\n",
       "      <td>2.970017</td>\n",
       "    </tr>\n",
       "    <tr>\n",
       "      <th>2019-01-28</th>\n",
       "      <td>-2.070671</td>\n",
       "      <td>-0.663458</td>\n",
       "      <td>-0.641523</td>\n",
       "      <td>0.625932</td>\n",
       "    </tr>\n",
       "    <tr>\n",
       "      <th>2019-01-29</th>\n",
       "      <td>-0.526751</td>\n",
       "      <td>-0.772455</td>\n",
       "      <td>-0.374788</td>\n",
       "      <td>-0.848009</td>\n",
       "    </tr>\n",
       "    <tr>\n",
       "      <th>2019-01-30</th>\n",
       "      <td>1.182345</td>\n",
       "      <td>1.033797</td>\n",
       "      <td>-0.260988</td>\n",
       "      <td>-0.619652</td>\n",
       "    </tr>\n",
       "    <tr>\n",
       "      <th>2019-01-31</th>\n",
       "      <td>2.069970</td>\n",
       "      <td>-0.562533</td>\n",
       "      <td>-0.079134</td>\n",
       "      <td>-0.174840</td>\n",
       "    </tr>\n",
       "  </tbody>\n",
       "</table>\n",
       "</div>"
      ],
      "text/plain": [
       "                   D         C         B         A\n",
       "2019-01-22  0.173464  0.709272 -0.135458 -2.708325\n",
       "2019-01-23 -0.706019  1.763366  0.602917 -1.970289\n",
       "2019-01-24  0.754136 -0.201280 -0.154534 -1.535866\n",
       "2019-01-25  0.303480  0.538868  1.537001 -2.427547\n",
       "2019-01-26 -1.714459  0.288566 -0.613017  0.204531\n",
       "2019-01-27  0.507768  2.285839 -0.123039  2.970017\n",
       "2019-01-28 -2.070671 -0.663458 -0.641523  0.625932\n",
       "2019-01-29 -0.526751 -0.772455 -0.374788 -0.848009\n",
       "2019-01-30  1.182345  1.033797 -0.260988 -0.619652\n",
       "2019-01-31  2.069970 -0.562533 -0.079134 -0.174840"
      ]
     },
     "execution_count": 18,
     "metadata": {},
     "output_type": "execute_result"
    }
   ],
   "source": [
    "\"\"\"5、 按轴进行排序\"\"\"\n",
    "df.sort_index(axis = 1, ascending = False)"
   ]
  },
  {
   "cell_type": "code",
   "execution_count": 19,
   "metadata": {},
   "outputs": [
    {
     "data": {
      "text/html": [
       "<div>\n",
       "<style scoped>\n",
       "    .dataframe tbody tr th:only-of-type {\n",
       "        vertical-align: middle;\n",
       "    }\n",
       "\n",
       "    .dataframe tbody tr th {\n",
       "        vertical-align: top;\n",
       "    }\n",
       "\n",
       "    .dataframe thead th {\n",
       "        text-align: right;\n",
       "    }\n",
       "</style>\n",
       "<table border=\"1\" class=\"dataframe\">\n",
       "  <thead>\n",
       "    <tr style=\"text-align: right;\">\n",
       "      <th></th>\n",
       "      <th>A</th>\n",
       "      <th>B</th>\n",
       "      <th>C</th>\n",
       "      <th>D</th>\n",
       "    </tr>\n",
       "  </thead>\n",
       "  <tbody>\n",
       "    <tr>\n",
       "      <th>2019-01-28</th>\n",
       "      <td>0.625932</td>\n",
       "      <td>-0.641523</td>\n",
       "      <td>-0.663458</td>\n",
       "      <td>-2.070671</td>\n",
       "    </tr>\n",
       "    <tr>\n",
       "      <th>2019-01-26</th>\n",
       "      <td>0.204531</td>\n",
       "      <td>-0.613017</td>\n",
       "      <td>0.288566</td>\n",
       "      <td>-1.714459</td>\n",
       "    </tr>\n",
       "    <tr>\n",
       "      <th>2019-01-29</th>\n",
       "      <td>-0.848009</td>\n",
       "      <td>-0.374788</td>\n",
       "      <td>-0.772455</td>\n",
       "      <td>-0.526751</td>\n",
       "    </tr>\n",
       "    <tr>\n",
       "      <th>2019-01-30</th>\n",
       "      <td>-0.619652</td>\n",
       "      <td>-0.260988</td>\n",
       "      <td>1.033797</td>\n",
       "      <td>1.182345</td>\n",
       "    </tr>\n",
       "    <tr>\n",
       "      <th>2019-01-24</th>\n",
       "      <td>-1.535866</td>\n",
       "      <td>-0.154534</td>\n",
       "      <td>-0.201280</td>\n",
       "      <td>0.754136</td>\n",
       "    </tr>\n",
       "    <tr>\n",
       "      <th>2019-01-22</th>\n",
       "      <td>-2.708325</td>\n",
       "      <td>-0.135458</td>\n",
       "      <td>0.709272</td>\n",
       "      <td>0.173464</td>\n",
       "    </tr>\n",
       "    <tr>\n",
       "      <th>2019-01-27</th>\n",
       "      <td>2.970017</td>\n",
       "      <td>-0.123039</td>\n",
       "      <td>2.285839</td>\n",
       "      <td>0.507768</td>\n",
       "    </tr>\n",
       "    <tr>\n",
       "      <th>2019-01-31</th>\n",
       "      <td>-0.174840</td>\n",
       "      <td>-0.079134</td>\n",
       "      <td>-0.562533</td>\n",
       "      <td>2.069970</td>\n",
       "    </tr>\n",
       "    <tr>\n",
       "      <th>2019-01-23</th>\n",
       "      <td>-1.970289</td>\n",
       "      <td>0.602917</td>\n",
       "      <td>1.763366</td>\n",
       "      <td>-0.706019</td>\n",
       "    </tr>\n",
       "    <tr>\n",
       "      <th>2019-01-25</th>\n",
       "      <td>-2.427547</td>\n",
       "      <td>1.537001</td>\n",
       "      <td>0.538868</td>\n",
       "      <td>0.303480</td>\n",
       "    </tr>\n",
       "  </tbody>\n",
       "</table>\n",
       "</div>"
      ],
      "text/plain": [
       "                   A         B         C         D\n",
       "2019-01-28  0.625932 -0.641523 -0.663458 -2.070671\n",
       "2019-01-26  0.204531 -0.613017  0.288566 -1.714459\n",
       "2019-01-29 -0.848009 -0.374788 -0.772455 -0.526751\n",
       "2019-01-30 -0.619652 -0.260988  1.033797  1.182345\n",
       "2019-01-24 -1.535866 -0.154534 -0.201280  0.754136\n",
       "2019-01-22 -2.708325 -0.135458  0.709272  0.173464\n",
       "2019-01-27  2.970017 -0.123039  2.285839  0.507768\n",
       "2019-01-31 -0.174840 -0.079134 -0.562533  2.069970\n",
       "2019-01-23 -1.970289  0.602917  1.763366 -0.706019\n",
       "2019-01-25 -2.427547  1.537001  0.538868  0.303480"
      ]
     },
     "execution_count": 19,
     "metadata": {},
     "output_type": "execute_result"
    }
   ],
   "source": [
    "\"\"\"6、 按值进行排序\"\"\"\n",
    "df.sort_values(by = 'B')"
   ]
  },
  {
   "cell_type": "code",
   "execution_count": 20,
   "metadata": {
    "collapsed": true
   },
   "outputs": [],
   "source": [
    "#三、 选择\n",
    "#获取"
   ]
  },
  {
   "cell_type": "code",
   "execution_count": 21,
   "metadata": {},
   "outputs": [
    {
     "data": {
      "text/plain": [
       "2019-01-22   -2.708325\n",
       "2019-01-23   -1.970289\n",
       "2019-01-24   -1.535866\n",
       "2019-01-25   -2.427547\n",
       "2019-01-26    0.204531\n",
       "2019-01-27    2.970017\n",
       "2019-01-28    0.625932\n",
       "2019-01-29   -0.848009\n",
       "2019-01-30   -0.619652\n",
       "2019-01-31   -0.174840\n",
       "Freq: D, Name: A, dtype: float64"
      ]
     },
     "execution_count": 21,
     "metadata": {},
     "output_type": "execute_result"
    }
   ],
   "source": [
    "\"\"\"1、 选择一个单独的列，这将会返回一个Series，等同于df.A：\"\"\"\n",
    "df['A']"
   ]
  },
  {
   "cell_type": "code",
   "execution_count": 22,
   "metadata": {},
   "outputs": [
    {
     "data": {
      "text/html": [
       "<div>\n",
       "<style scoped>\n",
       "    .dataframe tbody tr th:only-of-type {\n",
       "        vertical-align: middle;\n",
       "    }\n",
       "\n",
       "    .dataframe tbody tr th {\n",
       "        vertical-align: top;\n",
       "    }\n",
       "\n",
       "    .dataframe thead th {\n",
       "        text-align: right;\n",
       "    }\n",
       "</style>\n",
       "<table border=\"1\" class=\"dataframe\">\n",
       "  <thead>\n",
       "    <tr style=\"text-align: right;\">\n",
       "      <th></th>\n",
       "      <th>A</th>\n",
       "      <th>B</th>\n",
       "      <th>C</th>\n",
       "      <th>D</th>\n",
       "    </tr>\n",
       "  </thead>\n",
       "  <tbody>\n",
       "    <tr>\n",
       "      <th>2019-01-22</th>\n",
       "      <td>-2.708325</td>\n",
       "      <td>-0.135458</td>\n",
       "      <td>0.709272</td>\n",
       "      <td>0.173464</td>\n",
       "    </tr>\n",
       "    <tr>\n",
       "      <th>2019-01-23</th>\n",
       "      <td>-1.970289</td>\n",
       "      <td>0.602917</td>\n",
       "      <td>1.763366</td>\n",
       "      <td>-0.706019</td>\n",
       "    </tr>\n",
       "    <tr>\n",
       "      <th>2019-01-24</th>\n",
       "      <td>-1.535866</td>\n",
       "      <td>-0.154534</td>\n",
       "      <td>-0.201280</td>\n",
       "      <td>0.754136</td>\n",
       "    </tr>\n",
       "  </tbody>\n",
       "</table>\n",
       "</div>"
      ],
      "text/plain": [
       "                   A         B         C         D\n",
       "2019-01-22 -2.708325 -0.135458  0.709272  0.173464\n",
       "2019-01-23 -1.970289  0.602917  1.763366 -0.706019\n",
       "2019-01-24 -1.535866 -0.154534 -0.201280  0.754136"
      ]
     },
     "execution_count": 22,
     "metadata": {},
     "output_type": "execute_result"
    }
   ],
   "source": [
    "\"\"\"2、 通过[]进行选择，这将会对行进行切片\"\"\"\n",
    "df[0:3]"
   ]
  },
  {
   "cell_type": "code",
   "execution_count": 23,
   "metadata": {},
   "outputs": [
    {
     "data": {
      "text/html": [
       "<div>\n",
       "<style scoped>\n",
       "    .dataframe tbody tr th:only-of-type {\n",
       "        vertical-align: middle;\n",
       "    }\n",
       "\n",
       "    .dataframe tbody tr th {\n",
       "        vertical-align: top;\n",
       "    }\n",
       "\n",
       "    .dataframe thead th {\n",
       "        text-align: right;\n",
       "    }\n",
       "</style>\n",
       "<table border=\"1\" class=\"dataframe\">\n",
       "  <thead>\n",
       "    <tr style=\"text-align: right;\">\n",
       "      <th></th>\n",
       "      <th>A</th>\n",
       "      <th>B</th>\n",
       "      <th>C</th>\n",
       "      <th>D</th>\n",
       "    </tr>\n",
       "  </thead>\n",
       "  <tbody>\n",
       "    <tr>\n",
       "      <th>2019-01-22</th>\n",
       "      <td>-2.708325</td>\n",
       "      <td>-0.135458</td>\n",
       "      <td>0.709272</td>\n",
       "      <td>0.173464</td>\n",
       "    </tr>\n",
       "    <tr>\n",
       "      <th>2019-01-23</th>\n",
       "      <td>-1.970289</td>\n",
       "      <td>0.602917</td>\n",
       "      <td>1.763366</td>\n",
       "      <td>-0.706019</td>\n",
       "    </tr>\n",
       "    <tr>\n",
       "      <th>2019-01-24</th>\n",
       "      <td>-1.535866</td>\n",
       "      <td>-0.154534</td>\n",
       "      <td>-0.201280</td>\n",
       "      <td>0.754136</td>\n",
       "    </tr>\n",
       "    <tr>\n",
       "      <th>2019-01-25</th>\n",
       "      <td>-2.427547</td>\n",
       "      <td>1.537001</td>\n",
       "      <td>0.538868</td>\n",
       "      <td>0.303480</td>\n",
       "    </tr>\n",
       "    <tr>\n",
       "      <th>2019-01-26</th>\n",
       "      <td>0.204531</td>\n",
       "      <td>-0.613017</td>\n",
       "      <td>0.288566</td>\n",
       "      <td>-1.714459</td>\n",
       "    </tr>\n",
       "    <tr>\n",
       "      <th>2019-01-27</th>\n",
       "      <td>2.970017</td>\n",
       "      <td>-0.123039</td>\n",
       "      <td>2.285839</td>\n",
       "      <td>0.507768</td>\n",
       "    </tr>\n",
       "    <tr>\n",
       "      <th>2019-01-28</th>\n",
       "      <td>0.625932</td>\n",
       "      <td>-0.641523</td>\n",
       "      <td>-0.663458</td>\n",
       "      <td>-2.070671</td>\n",
       "    </tr>\n",
       "    <tr>\n",
       "      <th>2019-01-29</th>\n",
       "      <td>-0.848009</td>\n",
       "      <td>-0.374788</td>\n",
       "      <td>-0.772455</td>\n",
       "      <td>-0.526751</td>\n",
       "    </tr>\n",
       "  </tbody>\n",
       "</table>\n",
       "</div>"
      ],
      "text/plain": [
       "                   A         B         C         D\n",
       "2019-01-22 -2.708325 -0.135458  0.709272  0.173464\n",
       "2019-01-23 -1.970289  0.602917  1.763366 -0.706019\n",
       "2019-01-24 -1.535866 -0.154534 -0.201280  0.754136\n",
       "2019-01-25 -2.427547  1.537001  0.538868  0.303480\n",
       "2019-01-26  0.204531 -0.613017  0.288566 -1.714459\n",
       "2019-01-27  2.970017 -0.123039  2.285839  0.507768\n",
       "2019-01-28  0.625932 -0.641523 -0.663458 -2.070671\n",
       "2019-01-29 -0.848009 -0.374788 -0.772455 -0.526751"
      ]
     },
     "execution_count": 23,
     "metadata": {},
     "output_type": "execute_result"
    }
   ],
   "source": [
    "df['2019-01-22':'2019-01-29']"
   ]
  },
  {
   "cell_type": "code",
   "execution_count": 24,
   "metadata": {
    "collapsed": true
   },
   "outputs": [],
   "source": [
    "#通过标签选择"
   ]
  },
  {
   "cell_type": "code",
   "execution_count": 25,
   "metadata": {},
   "outputs": [
    {
     "data": {
      "text/plain": [
       "A   -2.708325\n",
       "B   -0.135458\n",
       "C    0.709272\n",
       "D    0.173464\n",
       "Name: 2019-01-22 00:00:00, dtype: float64"
      ]
     },
     "execution_count": 25,
     "metadata": {},
     "output_type": "execute_result"
    }
   ],
   "source": [
    "\"\"\"1、 使用标签来获取一个交叉的区域\"\"\"\n",
    "df.loc[dates[0]]"
   ]
  },
  {
   "cell_type": "code",
   "execution_count": 26,
   "metadata": {},
   "outputs": [
    {
     "data": {
      "text/html": [
       "<div>\n",
       "<style scoped>\n",
       "    .dataframe tbody tr th:only-of-type {\n",
       "        vertical-align: middle;\n",
       "    }\n",
       "\n",
       "    .dataframe tbody tr th {\n",
       "        vertical-align: top;\n",
       "    }\n",
       "\n",
       "    .dataframe thead th {\n",
       "        text-align: right;\n",
       "    }\n",
       "</style>\n",
       "<table border=\"1\" class=\"dataframe\">\n",
       "  <thead>\n",
       "    <tr style=\"text-align: right;\">\n",
       "      <th></th>\n",
       "      <th>A</th>\n",
       "      <th>B</th>\n",
       "    </tr>\n",
       "  </thead>\n",
       "  <tbody>\n",
       "    <tr>\n",
       "      <th>2019-01-22</th>\n",
       "      <td>-2.708325</td>\n",
       "      <td>-0.135458</td>\n",
       "    </tr>\n",
       "    <tr>\n",
       "      <th>2019-01-23</th>\n",
       "      <td>-1.970289</td>\n",
       "      <td>0.602917</td>\n",
       "    </tr>\n",
       "    <tr>\n",
       "      <th>2019-01-24</th>\n",
       "      <td>-1.535866</td>\n",
       "      <td>-0.154534</td>\n",
       "    </tr>\n",
       "    <tr>\n",
       "      <th>2019-01-25</th>\n",
       "      <td>-2.427547</td>\n",
       "      <td>1.537001</td>\n",
       "    </tr>\n",
       "    <tr>\n",
       "      <th>2019-01-26</th>\n",
       "      <td>0.204531</td>\n",
       "      <td>-0.613017</td>\n",
       "    </tr>\n",
       "    <tr>\n",
       "      <th>2019-01-27</th>\n",
       "      <td>2.970017</td>\n",
       "      <td>-0.123039</td>\n",
       "    </tr>\n",
       "    <tr>\n",
       "      <th>2019-01-28</th>\n",
       "      <td>0.625932</td>\n",
       "      <td>-0.641523</td>\n",
       "    </tr>\n",
       "    <tr>\n",
       "      <th>2019-01-29</th>\n",
       "      <td>-0.848009</td>\n",
       "      <td>-0.374788</td>\n",
       "    </tr>\n",
       "    <tr>\n",
       "      <th>2019-01-30</th>\n",
       "      <td>-0.619652</td>\n",
       "      <td>-0.260988</td>\n",
       "    </tr>\n",
       "    <tr>\n",
       "      <th>2019-01-31</th>\n",
       "      <td>-0.174840</td>\n",
       "      <td>-0.079134</td>\n",
       "    </tr>\n",
       "  </tbody>\n",
       "</table>\n",
       "</div>"
      ],
      "text/plain": [
       "                   A         B\n",
       "2019-01-22 -2.708325 -0.135458\n",
       "2019-01-23 -1.970289  0.602917\n",
       "2019-01-24 -1.535866 -0.154534\n",
       "2019-01-25 -2.427547  1.537001\n",
       "2019-01-26  0.204531 -0.613017\n",
       "2019-01-27  2.970017 -0.123039\n",
       "2019-01-28  0.625932 -0.641523\n",
       "2019-01-29 -0.848009 -0.374788\n",
       "2019-01-30 -0.619652 -0.260988\n",
       "2019-01-31 -0.174840 -0.079134"
      ]
     },
     "execution_count": 26,
     "metadata": {},
     "output_type": "execute_result"
    }
   ],
   "source": [
    "\"\"\"2、 通过标签来在多个轴上进行选择\"\"\"\n",
    "df.loc[:, ['A','B']]"
   ]
  },
  {
   "cell_type": "code",
   "execution_count": 27,
   "metadata": {},
   "outputs": [
    {
     "data": {
      "text/html": [
       "<div>\n",
       "<style scoped>\n",
       "    .dataframe tbody tr th:only-of-type {\n",
       "        vertical-align: middle;\n",
       "    }\n",
       "\n",
       "    .dataframe tbody tr th {\n",
       "        vertical-align: top;\n",
       "    }\n",
       "\n",
       "    .dataframe thead th {\n",
       "        text-align: right;\n",
       "    }\n",
       "</style>\n",
       "<table border=\"1\" class=\"dataframe\">\n",
       "  <thead>\n",
       "    <tr style=\"text-align: right;\">\n",
       "      <th></th>\n",
       "      <th>A</th>\n",
       "      <th>B</th>\n",
       "    </tr>\n",
       "  </thead>\n",
       "  <tbody>\n",
       "    <tr>\n",
       "      <th>2019-01-22</th>\n",
       "      <td>-2.708325</td>\n",
       "      <td>-0.135458</td>\n",
       "    </tr>\n",
       "    <tr>\n",
       "      <th>2019-01-23</th>\n",
       "      <td>-1.970289</td>\n",
       "      <td>0.602917</td>\n",
       "    </tr>\n",
       "    <tr>\n",
       "      <th>2019-01-24</th>\n",
       "      <td>-1.535866</td>\n",
       "      <td>-0.154534</td>\n",
       "    </tr>\n",
       "    <tr>\n",
       "      <th>2019-01-25</th>\n",
       "      <td>-2.427547</td>\n",
       "      <td>1.537001</td>\n",
       "    </tr>\n",
       "    <tr>\n",
       "      <th>2019-01-26</th>\n",
       "      <td>0.204531</td>\n",
       "      <td>-0.613017</td>\n",
       "    </tr>\n",
       "    <tr>\n",
       "      <th>2019-01-27</th>\n",
       "      <td>2.970017</td>\n",
       "      <td>-0.123039</td>\n",
       "    </tr>\n",
       "    <tr>\n",
       "      <th>2019-01-28</th>\n",
       "      <td>0.625932</td>\n",
       "      <td>-0.641523</td>\n",
       "    </tr>\n",
       "    <tr>\n",
       "      <th>2019-01-29</th>\n",
       "      <td>-0.848009</td>\n",
       "      <td>-0.374788</td>\n",
       "    </tr>\n",
       "  </tbody>\n",
       "</table>\n",
       "</div>"
      ],
      "text/plain": [
       "                   A         B\n",
       "2019-01-22 -2.708325 -0.135458\n",
       "2019-01-23 -1.970289  0.602917\n",
       "2019-01-24 -1.535866 -0.154534\n",
       "2019-01-25 -2.427547  1.537001\n",
       "2019-01-26  0.204531 -0.613017\n",
       "2019-01-27  2.970017 -0.123039\n",
       "2019-01-28  0.625932 -0.641523\n",
       "2019-01-29 -0.848009 -0.374788"
      ]
     },
     "execution_count": 27,
     "metadata": {},
     "output_type": "execute_result"
    }
   ],
   "source": [
    "\"\"\"3、 标签切片\"\"\"\n",
    "df.loc['2019-01-22':'2019-01-29', ['A', 'B']]"
   ]
  },
  {
   "cell_type": "code",
   "execution_count": 28,
   "metadata": {},
   "outputs": [
    {
     "data": {
      "text/plain": [
       "A   -2.708325\n",
       "B   -0.135458\n",
       "Name: 2019-01-22 00:00:00, dtype: float64"
      ]
     },
     "execution_count": 28,
     "metadata": {},
     "output_type": "execute_result"
    }
   ],
   "source": [
    "\"\"\"4、 对于返回的对象进行维度缩减\"\"\"\n",
    "df.loc['2019-01-22', ['A', 'B']]"
   ]
  },
  {
   "cell_type": "code",
   "execution_count": 29,
   "metadata": {},
   "outputs": [
    {
     "data": {
      "text/plain": [
       "A   -2.708325\n",
       "Name: 2019-01-22 00:00:00, dtype: float64"
      ]
     },
     "execution_count": 29,
     "metadata": {},
     "output_type": "execute_result"
    }
   ],
   "source": [
    "\"\"\"5、 获取一个标量\"\"\"\n",
    "df.loc[dates[0], ['A']]"
   ]
  },
  {
   "cell_type": "code",
   "execution_count": 30,
   "metadata": {},
   "outputs": [
    {
     "data": {
      "text/plain": [
       "-2.7083254059663204"
      ]
     },
     "execution_count": 30,
     "metadata": {},
     "output_type": "execute_result"
    }
   ],
   "source": [
    "\"\"\"6、 快速访问一个标量（与上一个方法等价）\n",
    "\n",
    "\"\"\"\n",
    "df.at[dates[0], 'A']"
   ]
  },
  {
   "cell_type": "code",
   "execution_count": 31,
   "metadata": {
    "collapsed": true
   },
   "outputs": [],
   "source": [
    "#通过位置选择"
   ]
  },
  {
   "cell_type": "code",
   "execution_count": 32,
   "metadata": {},
   "outputs": [
    {
     "data": {
      "text/plain": [
       "A   -2.427547\n",
       "B    1.537001\n",
       "C    0.538868\n",
       "D    0.303480\n",
       "Name: 2019-01-25 00:00:00, dtype: float64"
      ]
     },
     "execution_count": 32,
     "metadata": {},
     "output_type": "execute_result"
    }
   ],
   "source": [
    "\"\"\"1、 通过传递数值进行位置选择（选择的是行）\"\"\"\n",
    "df.iloc[3]"
   ]
  },
  {
   "cell_type": "code",
   "execution_count": 33,
   "metadata": {},
   "outputs": [
    {
     "name": "stdout",
     "output_type": "stream",
     "text": [
      "                   A         B         C         D\n",
      "2019-01-22 -2.708325 -0.135458  0.709272  0.173464\n",
      "2019-01-23 -1.970289  0.602917  1.763366 -0.706019\n",
      "2019-01-24 -1.535866 -0.154534 -0.201280  0.754136\n",
      "2019-01-25 -2.427547  1.537001  0.538868  0.303480\n",
      "2019-01-26  0.204531 -0.613017  0.288566 -1.714459\n",
      "2019-01-27  2.970017 -0.123039  2.285839  0.507768\n",
      "                   C         D\n",
      "2019-01-23  1.763366 -0.706019\n",
      "2019-01-24 -0.201280  0.754136\n"
     ]
    }
   ],
   "source": [
    "\"\"\"2、 通过数值进行切片，与 numpy/python 中的情况类似\"\"\"\n",
    "print(df.iloc[:6])\n",
    "print(df.iloc[1:3, 2:4])"
   ]
  },
  {
   "cell_type": "code",
   "execution_count": 34,
   "metadata": {},
   "outputs": [
    {
     "data": {
      "text/html": [
       "<div>\n",
       "<style scoped>\n",
       "    .dataframe tbody tr th:only-of-type {\n",
       "        vertical-align: middle;\n",
       "    }\n",
       "\n",
       "    .dataframe tbody tr th {\n",
       "        vertical-align: top;\n",
       "    }\n",
       "\n",
       "    .dataframe thead th {\n",
       "        text-align: right;\n",
       "    }\n",
       "</style>\n",
       "<table border=\"1\" class=\"dataframe\">\n",
       "  <thead>\n",
       "    <tr style=\"text-align: right;\">\n",
       "      <th></th>\n",
       "      <th>A</th>\n",
       "      <th>C</th>\n",
       "    </tr>\n",
       "  </thead>\n",
       "  <tbody>\n",
       "    <tr>\n",
       "      <th>2019-01-23</th>\n",
       "      <td>-1.970289</td>\n",
       "      <td>1.763366</td>\n",
       "    </tr>\n",
       "    <tr>\n",
       "      <th>2019-01-25</th>\n",
       "      <td>-2.427547</td>\n",
       "      <td>0.538868</td>\n",
       "    </tr>\n",
       "    <tr>\n",
       "      <th>2019-01-28</th>\n",
       "      <td>0.625932</td>\n",
       "      <td>-0.663458</td>\n",
       "    </tr>\n",
       "  </tbody>\n",
       "</table>\n",
       "</div>"
      ],
      "text/plain": [
       "                   A         C\n",
       "2019-01-23 -1.970289  1.763366\n",
       "2019-01-25 -2.427547  0.538868\n",
       "2019-01-28  0.625932 -0.663458"
      ]
     },
     "execution_count": 34,
     "metadata": {},
     "output_type": "execute_result"
    }
   ],
   "source": [
    "\"\"\"3、 通过指定一个位置的列表，与 numpy/python 中的情况类似\"\"\"\n",
    "df.iloc[[1, 3 ,6], [0, 2]]"
   ]
  },
  {
   "cell_type": "code",
   "execution_count": 35,
   "metadata": {},
   "outputs": [
    {
     "name": "stdout",
     "output_type": "stream",
     "text": [
      "                   A         B         C         D\n",
      "2019-01-23 -1.970289  0.602917  1.763366 -0.706019\n",
      "2019-01-24 -1.535866 -0.154534 -0.201280  0.754136\n",
      "2019-01-25 -2.427547  1.537001  0.538868  0.303480\n",
      "                   A         B         C         D\n",
      "2019-01-23 -1.970289  0.602917  1.763366 -0.706019\n",
      "2019-01-24 -1.535866 -0.154534 -0.201280  0.754136\n",
      "2019-01-25 -2.427547  1.537001  0.538868  0.303480\n"
     ]
    }
   ],
   "source": [
    "\"\"\"4、 对行进行切片\"\"\"\n",
    "print(df.iloc[1:4, :])\n",
    "print(df.iloc[1:4])"
   ]
  },
  {
   "cell_type": "code",
   "execution_count": 36,
   "metadata": {},
   "outputs": [
    {
     "data": {
      "text/html": [
       "<div>\n",
       "<style scoped>\n",
       "    .dataframe tbody tr th:only-of-type {\n",
       "        vertical-align: middle;\n",
       "    }\n",
       "\n",
       "    .dataframe tbody tr th {\n",
       "        vertical-align: top;\n",
       "    }\n",
       "\n",
       "    .dataframe thead th {\n",
       "        text-align: right;\n",
       "    }\n",
       "</style>\n",
       "<table border=\"1\" class=\"dataframe\">\n",
       "  <thead>\n",
       "    <tr style=\"text-align: right;\">\n",
       "      <th></th>\n",
       "      <th>B</th>\n",
       "      <th>C</th>\n",
       "    </tr>\n",
       "  </thead>\n",
       "  <tbody>\n",
       "    <tr>\n",
       "      <th>2019-01-22</th>\n",
       "      <td>-0.135458</td>\n",
       "      <td>0.709272</td>\n",
       "    </tr>\n",
       "    <tr>\n",
       "      <th>2019-01-23</th>\n",
       "      <td>0.602917</td>\n",
       "      <td>1.763366</td>\n",
       "    </tr>\n",
       "    <tr>\n",
       "      <th>2019-01-24</th>\n",
       "      <td>-0.154534</td>\n",
       "      <td>-0.201280</td>\n",
       "    </tr>\n",
       "    <tr>\n",
       "      <th>2019-01-25</th>\n",
       "      <td>1.537001</td>\n",
       "      <td>0.538868</td>\n",
       "    </tr>\n",
       "    <tr>\n",
       "      <th>2019-01-26</th>\n",
       "      <td>-0.613017</td>\n",
       "      <td>0.288566</td>\n",
       "    </tr>\n",
       "    <tr>\n",
       "      <th>2019-01-27</th>\n",
       "      <td>-0.123039</td>\n",
       "      <td>2.285839</td>\n",
       "    </tr>\n",
       "    <tr>\n",
       "      <th>2019-01-28</th>\n",
       "      <td>-0.641523</td>\n",
       "      <td>-0.663458</td>\n",
       "    </tr>\n",
       "    <tr>\n",
       "      <th>2019-01-29</th>\n",
       "      <td>-0.374788</td>\n",
       "      <td>-0.772455</td>\n",
       "    </tr>\n",
       "    <tr>\n",
       "      <th>2019-01-30</th>\n",
       "      <td>-0.260988</td>\n",
       "      <td>1.033797</td>\n",
       "    </tr>\n",
       "    <tr>\n",
       "      <th>2019-01-31</th>\n",
       "      <td>-0.079134</td>\n",
       "      <td>-0.562533</td>\n",
       "    </tr>\n",
       "  </tbody>\n",
       "</table>\n",
       "</div>"
      ],
      "text/plain": [
       "                   B         C\n",
       "2019-01-22 -0.135458  0.709272\n",
       "2019-01-23  0.602917  1.763366\n",
       "2019-01-24 -0.154534 -0.201280\n",
       "2019-01-25  1.537001  0.538868\n",
       "2019-01-26 -0.613017  0.288566\n",
       "2019-01-27 -0.123039  2.285839\n",
       "2019-01-28 -0.641523 -0.663458\n",
       "2019-01-29 -0.374788 -0.772455\n",
       "2019-01-30 -0.260988  1.033797\n",
       "2019-01-31 -0.079134 -0.562533"
      ]
     },
     "execution_count": 36,
     "metadata": {},
     "output_type": "execute_result"
    }
   ],
   "source": [
    "\"\"\"5、 对列进行切片\"\"\"\n",
    "df.iloc[:, 1:3]"
   ]
  },
  {
   "cell_type": "code",
   "execution_count": 37,
   "metadata": {},
   "outputs": [
    {
     "data": {
      "text/plain": [
       "-0.20127956238063094"
      ]
     },
     "execution_count": 37,
     "metadata": {},
     "output_type": "execute_result"
    }
   ],
   "source": [
    "\"\"\"6、 获取特定的值\"\"\"\n",
    "df.iloc[2 ,2]"
   ]
  },
  {
   "cell_type": "code",
   "execution_count": 38,
   "metadata": {},
   "outputs": [
    {
     "data": {
      "text/plain": [
       "-0.20127956238063094"
      ]
     },
     "execution_count": 38,
     "metadata": {},
     "output_type": "execute_result"
    }
   ],
   "source": [
    "#快速访问标量（等同于前一个方法）：\n",
    "df.iat[2, 2]"
   ]
  },
  {
   "cell_type": "code",
   "execution_count": 39,
   "metadata": {
    "collapsed": true
   },
   "outputs": [],
   "source": [
    "#布尔索引"
   ]
  },
  {
   "cell_type": "code",
   "execution_count": 40,
   "metadata": {},
   "outputs": [
    {
     "data": {
      "text/html": [
       "<div>\n",
       "<style scoped>\n",
       "    .dataframe tbody tr th:only-of-type {\n",
       "        vertical-align: middle;\n",
       "    }\n",
       "\n",
       "    .dataframe tbody tr th {\n",
       "        vertical-align: top;\n",
       "    }\n",
       "\n",
       "    .dataframe thead th {\n",
       "        text-align: right;\n",
       "    }\n",
       "</style>\n",
       "<table border=\"1\" class=\"dataframe\">\n",
       "  <thead>\n",
       "    <tr style=\"text-align: right;\">\n",
       "      <th></th>\n",
       "      <th>A</th>\n",
       "      <th>B</th>\n",
       "      <th>C</th>\n",
       "      <th>D</th>\n",
       "    </tr>\n",
       "  </thead>\n",
       "  <tbody>\n",
       "    <tr>\n",
       "      <th>2019-01-26</th>\n",
       "      <td>0.204531</td>\n",
       "      <td>-0.613017</td>\n",
       "      <td>0.288566</td>\n",
       "      <td>-1.714459</td>\n",
       "    </tr>\n",
       "    <tr>\n",
       "      <th>2019-01-27</th>\n",
       "      <td>2.970017</td>\n",
       "      <td>-0.123039</td>\n",
       "      <td>2.285839</td>\n",
       "      <td>0.507768</td>\n",
       "    </tr>\n",
       "    <tr>\n",
       "      <th>2019-01-28</th>\n",
       "      <td>0.625932</td>\n",
       "      <td>-0.641523</td>\n",
       "      <td>-0.663458</td>\n",
       "      <td>-2.070671</td>\n",
       "    </tr>\n",
       "  </tbody>\n",
       "</table>\n",
       "</div>"
      ],
      "text/plain": [
       "                   A         B         C         D\n",
       "2019-01-26  0.204531 -0.613017  0.288566 -1.714459\n",
       "2019-01-27  2.970017 -0.123039  2.285839  0.507768\n",
       "2019-01-28  0.625932 -0.641523 -0.663458 -2.070671"
      ]
     },
     "execution_count": 40,
     "metadata": {},
     "output_type": "execute_result"
    }
   ],
   "source": [
    "\"\"\"1、 使用一个单独列的值来选择数据：\"\"\"\n",
    "df[df.A > 0]"
   ]
  },
  {
   "cell_type": "code",
   "execution_count": 41,
   "metadata": {},
   "outputs": [
    {
     "data": {
      "text/html": [
       "<div>\n",
       "<style scoped>\n",
       "    .dataframe tbody tr th:only-of-type {\n",
       "        vertical-align: middle;\n",
       "    }\n",
       "\n",
       "    .dataframe tbody tr th {\n",
       "        vertical-align: top;\n",
       "    }\n",
       "\n",
       "    .dataframe thead th {\n",
       "        text-align: right;\n",
       "    }\n",
       "</style>\n",
       "<table border=\"1\" class=\"dataframe\">\n",
       "  <thead>\n",
       "    <tr style=\"text-align: right;\">\n",
       "      <th></th>\n",
       "      <th>A</th>\n",
       "      <th>B</th>\n",
       "      <th>C</th>\n",
       "      <th>D</th>\n",
       "    </tr>\n",
       "  </thead>\n",
       "  <tbody>\n",
       "    <tr>\n",
       "      <th>2019-01-22</th>\n",
       "      <td>NaN</td>\n",
       "      <td>NaN</td>\n",
       "      <td>0.709272</td>\n",
       "      <td>0.173464</td>\n",
       "    </tr>\n",
       "    <tr>\n",
       "      <th>2019-01-23</th>\n",
       "      <td>NaN</td>\n",
       "      <td>0.602917</td>\n",
       "      <td>1.763366</td>\n",
       "      <td>NaN</td>\n",
       "    </tr>\n",
       "    <tr>\n",
       "      <th>2019-01-24</th>\n",
       "      <td>NaN</td>\n",
       "      <td>NaN</td>\n",
       "      <td>NaN</td>\n",
       "      <td>0.754136</td>\n",
       "    </tr>\n",
       "    <tr>\n",
       "      <th>2019-01-25</th>\n",
       "      <td>NaN</td>\n",
       "      <td>1.537001</td>\n",
       "      <td>0.538868</td>\n",
       "      <td>0.303480</td>\n",
       "    </tr>\n",
       "    <tr>\n",
       "      <th>2019-01-26</th>\n",
       "      <td>0.204531</td>\n",
       "      <td>NaN</td>\n",
       "      <td>0.288566</td>\n",
       "      <td>NaN</td>\n",
       "    </tr>\n",
       "    <tr>\n",
       "      <th>2019-01-27</th>\n",
       "      <td>2.970017</td>\n",
       "      <td>NaN</td>\n",
       "      <td>2.285839</td>\n",
       "      <td>0.507768</td>\n",
       "    </tr>\n",
       "    <tr>\n",
       "      <th>2019-01-28</th>\n",
       "      <td>0.625932</td>\n",
       "      <td>NaN</td>\n",
       "      <td>NaN</td>\n",
       "      <td>NaN</td>\n",
       "    </tr>\n",
       "    <tr>\n",
       "      <th>2019-01-29</th>\n",
       "      <td>NaN</td>\n",
       "      <td>NaN</td>\n",
       "      <td>NaN</td>\n",
       "      <td>NaN</td>\n",
       "    </tr>\n",
       "    <tr>\n",
       "      <th>2019-01-30</th>\n",
       "      <td>NaN</td>\n",
       "      <td>NaN</td>\n",
       "      <td>1.033797</td>\n",
       "      <td>1.182345</td>\n",
       "    </tr>\n",
       "    <tr>\n",
       "      <th>2019-01-31</th>\n",
       "      <td>NaN</td>\n",
       "      <td>NaN</td>\n",
       "      <td>NaN</td>\n",
       "      <td>2.069970</td>\n",
       "    </tr>\n",
       "  </tbody>\n",
       "</table>\n",
       "</div>"
      ],
      "text/plain": [
       "                   A         B         C         D\n",
       "2019-01-22       NaN       NaN  0.709272  0.173464\n",
       "2019-01-23       NaN  0.602917  1.763366       NaN\n",
       "2019-01-24       NaN       NaN       NaN  0.754136\n",
       "2019-01-25       NaN  1.537001  0.538868  0.303480\n",
       "2019-01-26  0.204531       NaN  0.288566       NaN\n",
       "2019-01-27  2.970017       NaN  2.285839  0.507768\n",
       "2019-01-28  0.625932       NaN       NaN       NaN\n",
       "2019-01-29       NaN       NaN       NaN       NaN\n",
       "2019-01-30       NaN       NaN  1.033797  1.182345\n",
       "2019-01-31       NaN       NaN       NaN  2.069970"
      ]
     },
     "execution_count": 41,
     "metadata": {},
     "output_type": "execute_result"
    }
   ],
   "source": [
    "\"\"\"2、 使用where操作来选择数据：\"\"\"\n",
    "df[df>0]"
   ]
  },
  {
   "cell_type": "code",
   "execution_count": 42,
   "metadata": {},
   "outputs": [
    {
     "ename": "ValueError",
     "evalue": "Length of values does not match length of index",
     "output_type": "error",
     "traceback": [
      "\u001b[0;31m---------------------------------------------------------------------------\u001b[0m",
      "\u001b[0;31mValueError\u001b[0m                                Traceback (most recent call last)",
      "\u001b[0;32m<ipython-input-42-6009d6ac944b>\u001b[0m in \u001b[0;36m<module>\u001b[0;34m()\u001b[0m\n\u001b[1;32m      1\u001b[0m \u001b[0;34m\"\"\"3、 使用isin()方法来过滤：\"\"\"\u001b[0m\u001b[0;34m\u001b[0m\u001b[0m\n\u001b[1;32m      2\u001b[0m \u001b[0mdf2\u001b[0m \u001b[0;34m=\u001b[0m \u001b[0mdf\u001b[0m\u001b[0;34m.\u001b[0m\u001b[0mcopy\u001b[0m\u001b[0;34m(\u001b[0m\u001b[0;34m)\u001b[0m\u001b[0;34m\u001b[0m\u001b[0m\n\u001b[0;32m----> 3\u001b[0;31m \u001b[0mdf2\u001b[0m\u001b[0;34m[\u001b[0m\u001b[0;34m'E'\u001b[0m\u001b[0;34m]\u001b[0m \u001b[0;34m=\u001b[0m \u001b[0;34m[\u001b[0m\u001b[0;34m'one'\u001b[0m\u001b[0;34m,\u001b[0m \u001b[0;34m'one'\u001b[0m\u001b[0;34m,\u001b[0m\u001b[0;34m'two'\u001b[0m\u001b[0;34m,\u001b[0m\u001b[0;34m'three'\u001b[0m\u001b[0;34m,\u001b[0m\u001b[0;34m'four'\u001b[0m\u001b[0;34m,\u001b[0m\u001b[0;34m'three'\u001b[0m\u001b[0;34m]\u001b[0m\u001b[0;34m\u001b[0m\u001b[0m\n\u001b[0m\u001b[1;32m      4\u001b[0m \u001b[0mprint\u001b[0m\u001b[0;34m(\u001b[0m\u001b[0mdf2\u001b[0m\u001b[0;34m)\u001b[0m\u001b[0;34m\u001b[0m\u001b[0m\n\u001b[1;32m      5\u001b[0m \u001b[0mdf2\u001b[0m\u001b[0;34m[\u001b[0m\u001b[0mdf2\u001b[0m\u001b[0;34m[\u001b[0m\u001b[0;34m'E'\u001b[0m\u001b[0;34m]\u001b[0m\u001b[0;34m.\u001b[0m\u001b[0misin\u001b[0m\u001b[0;34m(\u001b[0m\u001b[0;34m[\u001b[0m\u001b[0;34m'two'\u001b[0m\u001b[0;34m,\u001b[0m\u001b[0;34m'four'\u001b[0m\u001b[0;34m]\u001b[0m\u001b[0;34m)\u001b[0m\u001b[0;34m]\u001b[0m\u001b[0;34m\u001b[0m\u001b[0m\n",
      "\u001b[0;32m~/anaconda3/lib/python3.6/site-packages/pandas/core/frame.py\u001b[0m in \u001b[0;36m__setitem__\u001b[0;34m(self, key, value)\u001b[0m\n\u001b[1;32m   3117\u001b[0m         \u001b[0;32melse\u001b[0m\u001b[0;34m:\u001b[0m\u001b[0;34m\u001b[0m\u001b[0m\n\u001b[1;32m   3118\u001b[0m             \u001b[0;31m# set column\u001b[0m\u001b[0;34m\u001b[0m\u001b[0;34m\u001b[0m\u001b[0m\n\u001b[0;32m-> 3119\u001b[0;31m             \u001b[0mself\u001b[0m\u001b[0;34m.\u001b[0m\u001b[0m_set_item\u001b[0m\u001b[0;34m(\u001b[0m\u001b[0mkey\u001b[0m\u001b[0;34m,\u001b[0m \u001b[0mvalue\u001b[0m\u001b[0;34m)\u001b[0m\u001b[0;34m\u001b[0m\u001b[0m\n\u001b[0m\u001b[1;32m   3120\u001b[0m \u001b[0;34m\u001b[0m\u001b[0m\n\u001b[1;32m   3121\u001b[0m     \u001b[0;32mdef\u001b[0m \u001b[0m_setitem_slice\u001b[0m\u001b[0;34m(\u001b[0m\u001b[0mself\u001b[0m\u001b[0;34m,\u001b[0m \u001b[0mkey\u001b[0m\u001b[0;34m,\u001b[0m \u001b[0mvalue\u001b[0m\u001b[0;34m)\u001b[0m\u001b[0;34m:\u001b[0m\u001b[0;34m\u001b[0m\u001b[0m\n",
      "\u001b[0;32m~/anaconda3/lib/python3.6/site-packages/pandas/core/frame.py\u001b[0m in \u001b[0;36m_set_item\u001b[0;34m(self, key, value)\u001b[0m\n\u001b[1;32m   3192\u001b[0m \u001b[0;34m\u001b[0m\u001b[0m\n\u001b[1;32m   3193\u001b[0m         \u001b[0mself\u001b[0m\u001b[0;34m.\u001b[0m\u001b[0m_ensure_valid_index\u001b[0m\u001b[0;34m(\u001b[0m\u001b[0mvalue\u001b[0m\u001b[0;34m)\u001b[0m\u001b[0;34m\u001b[0m\u001b[0m\n\u001b[0;32m-> 3194\u001b[0;31m         \u001b[0mvalue\u001b[0m \u001b[0;34m=\u001b[0m \u001b[0mself\u001b[0m\u001b[0;34m.\u001b[0m\u001b[0m_sanitize_column\u001b[0m\u001b[0;34m(\u001b[0m\u001b[0mkey\u001b[0m\u001b[0;34m,\u001b[0m \u001b[0mvalue\u001b[0m\u001b[0;34m)\u001b[0m\u001b[0;34m\u001b[0m\u001b[0m\n\u001b[0m\u001b[1;32m   3195\u001b[0m         \u001b[0mNDFrame\u001b[0m\u001b[0;34m.\u001b[0m\u001b[0m_set_item\u001b[0m\u001b[0;34m(\u001b[0m\u001b[0mself\u001b[0m\u001b[0;34m,\u001b[0m \u001b[0mkey\u001b[0m\u001b[0;34m,\u001b[0m \u001b[0mvalue\u001b[0m\u001b[0;34m)\u001b[0m\u001b[0;34m\u001b[0m\u001b[0m\n\u001b[1;32m   3196\u001b[0m \u001b[0;34m\u001b[0m\u001b[0m\n",
      "\u001b[0;32m~/anaconda3/lib/python3.6/site-packages/pandas/core/frame.py\u001b[0m in \u001b[0;36m_sanitize_column\u001b[0;34m(self, key, value, broadcast)\u001b[0m\n\u001b[1;32m   3389\u001b[0m \u001b[0;34m\u001b[0m\u001b[0m\n\u001b[1;32m   3390\u001b[0m             \u001b[0;31m# turn me into an ndarray\u001b[0m\u001b[0;34m\u001b[0m\u001b[0;34m\u001b[0m\u001b[0m\n\u001b[0;32m-> 3391\u001b[0;31m             \u001b[0mvalue\u001b[0m \u001b[0;34m=\u001b[0m \u001b[0m_sanitize_index\u001b[0m\u001b[0;34m(\u001b[0m\u001b[0mvalue\u001b[0m\u001b[0;34m,\u001b[0m \u001b[0mself\u001b[0m\u001b[0;34m.\u001b[0m\u001b[0mindex\u001b[0m\u001b[0;34m,\u001b[0m \u001b[0mcopy\u001b[0m\u001b[0;34m=\u001b[0m\u001b[0;32mFalse\u001b[0m\u001b[0;34m)\u001b[0m\u001b[0;34m\u001b[0m\u001b[0m\n\u001b[0m\u001b[1;32m   3392\u001b[0m             \u001b[0;32mif\u001b[0m \u001b[0;32mnot\u001b[0m \u001b[0misinstance\u001b[0m\u001b[0;34m(\u001b[0m\u001b[0mvalue\u001b[0m\u001b[0;34m,\u001b[0m \u001b[0;34m(\u001b[0m\u001b[0mnp\u001b[0m\u001b[0;34m.\u001b[0m\u001b[0mndarray\u001b[0m\u001b[0;34m,\u001b[0m \u001b[0mIndex\u001b[0m\u001b[0;34m)\u001b[0m\u001b[0;34m)\u001b[0m\u001b[0;34m:\u001b[0m\u001b[0;34m\u001b[0m\u001b[0m\n\u001b[1;32m   3393\u001b[0m                 \u001b[0;32mif\u001b[0m \u001b[0misinstance\u001b[0m\u001b[0;34m(\u001b[0m\u001b[0mvalue\u001b[0m\u001b[0;34m,\u001b[0m \u001b[0mlist\u001b[0m\u001b[0;34m)\u001b[0m \u001b[0;32mand\u001b[0m \u001b[0mlen\u001b[0m\u001b[0;34m(\u001b[0m\u001b[0mvalue\u001b[0m\u001b[0;34m)\u001b[0m \u001b[0;34m>\u001b[0m \u001b[0;36m0\u001b[0m\u001b[0;34m:\u001b[0m\u001b[0;34m\u001b[0m\u001b[0m\n",
      "\u001b[0;32m~/anaconda3/lib/python3.6/site-packages/pandas/core/series.py\u001b[0m in \u001b[0;36m_sanitize_index\u001b[0;34m(data, index, copy)\u001b[0m\n\u001b[1;32m   3999\u001b[0m \u001b[0;34m\u001b[0m\u001b[0m\n\u001b[1;32m   4000\u001b[0m     \u001b[0;32mif\u001b[0m \u001b[0mlen\u001b[0m\u001b[0;34m(\u001b[0m\u001b[0mdata\u001b[0m\u001b[0;34m)\u001b[0m \u001b[0;34m!=\u001b[0m \u001b[0mlen\u001b[0m\u001b[0;34m(\u001b[0m\u001b[0mindex\u001b[0m\u001b[0;34m)\u001b[0m\u001b[0;34m:\u001b[0m\u001b[0;34m\u001b[0m\u001b[0m\n\u001b[0;32m-> 4001\u001b[0;31m         \u001b[0;32mraise\u001b[0m \u001b[0mValueError\u001b[0m\u001b[0;34m(\u001b[0m\u001b[0;34m'Length of values does not match length of '\u001b[0m \u001b[0;34m'index'\u001b[0m\u001b[0;34m)\u001b[0m\u001b[0;34m\u001b[0m\u001b[0m\n\u001b[0m\u001b[1;32m   4002\u001b[0m \u001b[0;34m\u001b[0m\u001b[0m\n\u001b[1;32m   4003\u001b[0m     \u001b[0;32mif\u001b[0m \u001b[0misinstance\u001b[0m\u001b[0;34m(\u001b[0m\u001b[0mdata\u001b[0m\u001b[0;34m,\u001b[0m \u001b[0mABCIndexClass\u001b[0m\u001b[0;34m)\u001b[0m \u001b[0;32mand\u001b[0m \u001b[0;32mnot\u001b[0m \u001b[0mcopy\u001b[0m\u001b[0;34m:\u001b[0m\u001b[0;34m\u001b[0m\u001b[0m\n",
      "\u001b[0;31mValueError\u001b[0m: Length of values does not match length of index"
     ]
    }
   ],
   "source": [
    "\"\"\"3、 使用isin()方法来过滤：\"\"\"\n",
    "df2 = df.copy()\n",
    "df2['E'] = ['one', 'one','two','three','four','three']\n",
    "print(df2)\n",
    "df2[df2['E'].isin(['two','four'])]"
   ]
  },
  {
   "cell_type": "code",
   "execution_count": null,
   "metadata": {
    "collapsed": true
   },
   "outputs": [],
   "source": [
    "#设置"
   ]
  },
  {
   "cell_type": "code",
   "execution_count": null,
   "metadata": {},
   "outputs": [],
   "source": [
    "\"\"\"1、 设置一个新的列：\"\"\"\n",
    "s1 = pd.Series([1, 2, 3, 4, 5, 6], index = pd.date_range('20190123', periods = 6))\n",
    "print(s1)\n",
    "df['F'] = s1\n",
    "print(df)"
   ]
  },
  {
   "cell_type": "code",
   "execution_count": 43,
   "metadata": {},
   "outputs": [
    {
     "name": "stdout",
     "output_type": "stream",
     "text": [
      "                   A         B         C         D\n",
      "2019-01-22  0.000000 -0.135458  0.709272  0.173464\n",
      "2019-01-23 -1.970289  0.602917  1.763366 -0.706019\n",
      "2019-01-24 -1.535866 -0.154534 -0.201280  0.754136\n",
      "2019-01-25 -2.427547  1.537001  0.538868  0.303480\n",
      "2019-01-26  0.204531 -0.613017  0.288566 -1.714459\n",
      "2019-01-27  2.970017 -0.123039  2.285839  0.507768\n",
      "2019-01-28  0.625932 -0.641523 -0.663458 -2.070671\n",
      "2019-01-29 -0.848009 -0.374788 -0.772455 -0.526751\n",
      "2019-01-30 -0.619652 -0.260988  1.033797  1.182345\n",
      "2019-01-31 -0.174840 -0.079134 -0.562533  2.069970\n"
     ]
    }
   ],
   "source": [
    "\"\"\"2、 通过标签设置新的值：\n",
    "\"\"\"\n",
    "df.at[dates[0], 'A'] = 0\n",
    "print(df)"
   ]
  },
  {
   "cell_type": "code",
   "execution_count": 44,
   "metadata": {},
   "outputs": [
    {
     "data": {
      "text/html": [
       "<div>\n",
       "<style scoped>\n",
       "    .dataframe tbody tr th:only-of-type {\n",
       "        vertical-align: middle;\n",
       "    }\n",
       "\n",
       "    .dataframe tbody tr th {\n",
       "        vertical-align: top;\n",
       "    }\n",
       "\n",
       "    .dataframe thead th {\n",
       "        text-align: right;\n",
       "    }\n",
       "</style>\n",
       "<table border=\"1\" class=\"dataframe\">\n",
       "  <thead>\n",
       "    <tr style=\"text-align: right;\">\n",
       "      <th></th>\n",
       "      <th>A</th>\n",
       "      <th>B</th>\n",
       "      <th>C</th>\n",
       "      <th>D</th>\n",
       "    </tr>\n",
       "  </thead>\n",
       "  <tbody>\n",
       "    <tr>\n",
       "      <th>2019-01-22</th>\n",
       "      <td>0.000000</td>\n",
       "      <td>0.000000</td>\n",
       "      <td>0.709272</td>\n",
       "      <td>0.173464</td>\n",
       "    </tr>\n",
       "    <tr>\n",
       "      <th>2019-01-23</th>\n",
       "      <td>-1.970289</td>\n",
       "      <td>0.602917</td>\n",
       "      <td>1.763366</td>\n",
       "      <td>-0.706019</td>\n",
       "    </tr>\n",
       "    <tr>\n",
       "      <th>2019-01-24</th>\n",
       "      <td>-1.535866</td>\n",
       "      <td>-0.154534</td>\n",
       "      <td>-0.201280</td>\n",
       "      <td>0.754136</td>\n",
       "    </tr>\n",
       "    <tr>\n",
       "      <th>2019-01-25</th>\n",
       "      <td>-2.427547</td>\n",
       "      <td>1.537001</td>\n",
       "      <td>0.538868</td>\n",
       "      <td>0.303480</td>\n",
       "    </tr>\n",
       "    <tr>\n",
       "      <th>2019-01-26</th>\n",
       "      <td>0.204531</td>\n",
       "      <td>-0.613017</td>\n",
       "      <td>0.288566</td>\n",
       "      <td>-1.714459</td>\n",
       "    </tr>\n",
       "    <tr>\n",
       "      <th>2019-01-27</th>\n",
       "      <td>2.970017</td>\n",
       "      <td>-0.123039</td>\n",
       "      <td>2.285839</td>\n",
       "      <td>0.507768</td>\n",
       "    </tr>\n",
       "    <tr>\n",
       "      <th>2019-01-28</th>\n",
       "      <td>0.625932</td>\n",
       "      <td>-0.641523</td>\n",
       "      <td>-0.663458</td>\n",
       "      <td>-2.070671</td>\n",
       "    </tr>\n",
       "    <tr>\n",
       "      <th>2019-01-29</th>\n",
       "      <td>-0.848009</td>\n",
       "      <td>-0.374788</td>\n",
       "      <td>-0.772455</td>\n",
       "      <td>-0.526751</td>\n",
       "    </tr>\n",
       "    <tr>\n",
       "      <th>2019-01-30</th>\n",
       "      <td>-0.619652</td>\n",
       "      <td>-0.260988</td>\n",
       "      <td>1.033797</td>\n",
       "      <td>1.182345</td>\n",
       "    </tr>\n",
       "    <tr>\n",
       "      <th>2019-01-31</th>\n",
       "      <td>-0.174840</td>\n",
       "      <td>-0.079134</td>\n",
       "      <td>-0.562533</td>\n",
       "      <td>2.069970</td>\n",
       "    </tr>\n",
       "  </tbody>\n",
       "</table>\n",
       "</div>"
      ],
      "text/plain": [
       "                   A         B         C         D\n",
       "2019-01-22  0.000000  0.000000  0.709272  0.173464\n",
       "2019-01-23 -1.970289  0.602917  1.763366 -0.706019\n",
       "2019-01-24 -1.535866 -0.154534 -0.201280  0.754136\n",
       "2019-01-25 -2.427547  1.537001  0.538868  0.303480\n",
       "2019-01-26  0.204531 -0.613017  0.288566 -1.714459\n",
       "2019-01-27  2.970017 -0.123039  2.285839  0.507768\n",
       "2019-01-28  0.625932 -0.641523 -0.663458 -2.070671\n",
       "2019-01-29 -0.848009 -0.374788 -0.772455 -0.526751\n",
       "2019-01-30 -0.619652 -0.260988  1.033797  1.182345\n",
       "2019-01-31 -0.174840 -0.079134 -0.562533  2.069970"
      ]
     },
     "execution_count": 44,
     "metadata": {},
     "output_type": "execute_result"
    }
   ],
   "source": [
    "\"\"\"3、 通过位置设置新的值：\n",
    "\"\"\"\n",
    "df.iat[0, 1] = 0\n",
    "df"
   ]
  },
  {
   "cell_type": "code",
   "execution_count": 45,
   "metadata": {},
   "outputs": [
    {
     "data": {
      "text/html": [
       "<div>\n",
       "<style scoped>\n",
       "    .dataframe tbody tr th:only-of-type {\n",
       "        vertical-align: middle;\n",
       "    }\n",
       "\n",
       "    .dataframe tbody tr th {\n",
       "        vertical-align: top;\n",
       "    }\n",
       "\n",
       "    .dataframe thead th {\n",
       "        text-align: right;\n",
       "    }\n",
       "</style>\n",
       "<table border=\"1\" class=\"dataframe\">\n",
       "  <thead>\n",
       "    <tr style=\"text-align: right;\">\n",
       "      <th></th>\n",
       "      <th>A</th>\n",
       "      <th>B</th>\n",
       "      <th>C</th>\n",
       "      <th>D</th>\n",
       "    </tr>\n",
       "  </thead>\n",
       "  <tbody>\n",
       "    <tr>\n",
       "      <th>2019-01-22</th>\n",
       "      <td>0.000000</td>\n",
       "      <td>0.000000</td>\n",
       "      <td>0.709272</td>\n",
       "      <td>5</td>\n",
       "    </tr>\n",
       "    <tr>\n",
       "      <th>2019-01-23</th>\n",
       "      <td>-1.970289</td>\n",
       "      <td>0.602917</td>\n",
       "      <td>1.763366</td>\n",
       "      <td>5</td>\n",
       "    </tr>\n",
       "    <tr>\n",
       "      <th>2019-01-24</th>\n",
       "      <td>-1.535866</td>\n",
       "      <td>-0.154534</td>\n",
       "      <td>-0.201280</td>\n",
       "      <td>5</td>\n",
       "    </tr>\n",
       "    <tr>\n",
       "      <th>2019-01-25</th>\n",
       "      <td>-2.427547</td>\n",
       "      <td>1.537001</td>\n",
       "      <td>0.538868</td>\n",
       "      <td>5</td>\n",
       "    </tr>\n",
       "    <tr>\n",
       "      <th>2019-01-26</th>\n",
       "      <td>0.204531</td>\n",
       "      <td>-0.613017</td>\n",
       "      <td>0.288566</td>\n",
       "      <td>5</td>\n",
       "    </tr>\n",
       "    <tr>\n",
       "      <th>2019-01-27</th>\n",
       "      <td>2.970017</td>\n",
       "      <td>-0.123039</td>\n",
       "      <td>2.285839</td>\n",
       "      <td>5</td>\n",
       "    </tr>\n",
       "    <tr>\n",
       "      <th>2019-01-28</th>\n",
       "      <td>0.625932</td>\n",
       "      <td>-0.641523</td>\n",
       "      <td>-0.663458</td>\n",
       "      <td>5</td>\n",
       "    </tr>\n",
       "    <tr>\n",
       "      <th>2019-01-29</th>\n",
       "      <td>-0.848009</td>\n",
       "      <td>-0.374788</td>\n",
       "      <td>-0.772455</td>\n",
       "      <td>5</td>\n",
       "    </tr>\n",
       "    <tr>\n",
       "      <th>2019-01-30</th>\n",
       "      <td>-0.619652</td>\n",
       "      <td>-0.260988</td>\n",
       "      <td>1.033797</td>\n",
       "      <td>5</td>\n",
       "    </tr>\n",
       "    <tr>\n",
       "      <th>2019-01-31</th>\n",
       "      <td>-0.174840</td>\n",
       "      <td>-0.079134</td>\n",
       "      <td>-0.562533</td>\n",
       "      <td>5</td>\n",
       "    </tr>\n",
       "  </tbody>\n",
       "</table>\n",
       "</div>"
      ],
      "text/plain": [
       "                   A         B         C  D\n",
       "2019-01-22  0.000000  0.000000  0.709272  5\n",
       "2019-01-23 -1.970289  0.602917  1.763366  5\n",
       "2019-01-24 -1.535866 -0.154534 -0.201280  5\n",
       "2019-01-25 -2.427547  1.537001  0.538868  5\n",
       "2019-01-26  0.204531 -0.613017  0.288566  5\n",
       "2019-01-27  2.970017 -0.123039  2.285839  5\n",
       "2019-01-28  0.625932 -0.641523 -0.663458  5\n",
       "2019-01-29 -0.848009 -0.374788 -0.772455  5\n",
       "2019-01-30 -0.619652 -0.260988  1.033797  5\n",
       "2019-01-31 -0.174840 -0.079134 -0.562533  5"
      ]
     },
     "execution_count": 45,
     "metadata": {},
     "output_type": "execute_result"
    }
   ],
   "source": [
    "\"\"\"4、 通过一个numpy数组设置一组新值：\"\"\"\n",
    "df.loc[:, 'D'] = np.array([5] * len(df))\n",
    "df"
   ]
  },
  {
   "cell_type": "code",
   "execution_count": 46,
   "metadata": {
    "scrolled": true
   },
   "outputs": [
    {
     "data": {
      "text/html": [
       "<div>\n",
       "<style scoped>\n",
       "    .dataframe tbody tr th:only-of-type {\n",
       "        vertical-align: middle;\n",
       "    }\n",
       "\n",
       "    .dataframe tbody tr th {\n",
       "        vertical-align: top;\n",
       "    }\n",
       "\n",
       "    .dataframe thead th {\n",
       "        text-align: right;\n",
       "    }\n",
       "</style>\n",
       "<table border=\"1\" class=\"dataframe\">\n",
       "  <thead>\n",
       "    <tr style=\"text-align: right;\">\n",
       "      <th></th>\n",
       "      <th>A</th>\n",
       "      <th>B</th>\n",
       "      <th>C</th>\n",
       "      <th>D</th>\n",
       "    </tr>\n",
       "  </thead>\n",
       "  <tbody>\n",
       "    <tr>\n",
       "      <th>2019-01-22</th>\n",
       "      <td>0.000000</td>\n",
       "      <td>0.000000</td>\n",
       "      <td>-0.709272</td>\n",
       "      <td>-5</td>\n",
       "    </tr>\n",
       "    <tr>\n",
       "      <th>2019-01-23</th>\n",
       "      <td>-1.970289</td>\n",
       "      <td>-0.602917</td>\n",
       "      <td>-1.763366</td>\n",
       "      <td>-5</td>\n",
       "    </tr>\n",
       "    <tr>\n",
       "      <th>2019-01-24</th>\n",
       "      <td>-1.535866</td>\n",
       "      <td>-0.154534</td>\n",
       "      <td>-0.201280</td>\n",
       "      <td>-5</td>\n",
       "    </tr>\n",
       "    <tr>\n",
       "      <th>2019-01-25</th>\n",
       "      <td>-2.427547</td>\n",
       "      <td>-1.537001</td>\n",
       "      <td>-0.538868</td>\n",
       "      <td>-5</td>\n",
       "    </tr>\n",
       "    <tr>\n",
       "      <th>2019-01-26</th>\n",
       "      <td>-0.204531</td>\n",
       "      <td>-0.613017</td>\n",
       "      <td>-0.288566</td>\n",
       "      <td>-5</td>\n",
       "    </tr>\n",
       "    <tr>\n",
       "      <th>2019-01-27</th>\n",
       "      <td>-2.970017</td>\n",
       "      <td>-0.123039</td>\n",
       "      <td>-2.285839</td>\n",
       "      <td>-5</td>\n",
       "    </tr>\n",
       "    <tr>\n",
       "      <th>2019-01-28</th>\n",
       "      <td>-0.625932</td>\n",
       "      <td>-0.641523</td>\n",
       "      <td>-0.663458</td>\n",
       "      <td>-5</td>\n",
       "    </tr>\n",
       "    <tr>\n",
       "      <th>2019-01-29</th>\n",
       "      <td>-0.848009</td>\n",
       "      <td>-0.374788</td>\n",
       "      <td>-0.772455</td>\n",
       "      <td>-5</td>\n",
       "    </tr>\n",
       "    <tr>\n",
       "      <th>2019-01-30</th>\n",
       "      <td>-0.619652</td>\n",
       "      <td>-0.260988</td>\n",
       "      <td>-1.033797</td>\n",
       "      <td>-5</td>\n",
       "    </tr>\n",
       "    <tr>\n",
       "      <th>2019-01-31</th>\n",
       "      <td>-0.174840</td>\n",
       "      <td>-0.079134</td>\n",
       "      <td>-0.562533</td>\n",
       "      <td>-5</td>\n",
       "    </tr>\n",
       "  </tbody>\n",
       "</table>\n",
       "</div>"
      ],
      "text/plain": [
       "                   A         B         C  D\n",
       "2019-01-22  0.000000  0.000000 -0.709272 -5\n",
       "2019-01-23 -1.970289 -0.602917 -1.763366 -5\n",
       "2019-01-24 -1.535866 -0.154534 -0.201280 -5\n",
       "2019-01-25 -2.427547 -1.537001 -0.538868 -5\n",
       "2019-01-26 -0.204531 -0.613017 -0.288566 -5\n",
       "2019-01-27 -2.970017 -0.123039 -2.285839 -5\n",
       "2019-01-28 -0.625932 -0.641523 -0.663458 -5\n",
       "2019-01-29 -0.848009 -0.374788 -0.772455 -5\n",
       "2019-01-30 -0.619652 -0.260988 -1.033797 -5\n",
       "2019-01-31 -0.174840 -0.079134 -0.562533 -5"
      ]
     },
     "execution_count": 46,
     "metadata": {},
     "output_type": "execute_result"
    }
   ],
   "source": [
    "\"\"\"5、 通过where操作来设置新的值：\"\"\"\n",
    "df2 = df.copy()\n",
    "df2[df2>0] = -df2\n",
    "df2"
   ]
  },
  {
   "cell_type": "code",
   "execution_count": 47,
   "metadata": {
    "collapsed": true
   },
   "outputs": [],
   "source": [
    "import pandas as pd"
   ]
  },
  {
   "cell_type": "code",
   "execution_count": 48,
   "metadata": {},
   "outputs": [
    {
     "ename": "SyntaxError",
     "evalue": "invalid syntax (<ipython-input-48-3e7e8b41e94a>, line 1)",
     "output_type": "error",
     "traceback": [
      "\u001b[0;36m  File \u001b[0;32m\"<ipython-input-48-3e7e8b41e94a>\"\u001b[0;36m, line \u001b[0;32m1\u001b[0m\n\u001b[0;31m    f = pd.\u001b[0m\n\u001b[0m           ^\u001b[0m\n\u001b[0;31mSyntaxError\u001b[0m\u001b[0;31m:\u001b[0m invalid syntax\n"
     ]
    }
   ],
   "source": []
  },
  {
   "cell_type": "code",
   "execution_count": null,
   "metadata": {
    "collapsed": true
   },
   "outputs": [],
   "source": []
  },
  {
   "cell_type": "code",
   "execution_count": null,
   "metadata": {
    "collapsed": true
   },
   "outputs": [],
   "source": []
  }
 ],
 "metadata": {
  "kernelspec": {
   "display_name": "Python 3",
   "language": "python",
   "name": "python3"
  },
  "language_info": {
   "codemirror_mode": {
    "name": "ipython",
    "version": 3
   },
   "file_extension": ".py",
   "mimetype": "text/x-python",
   "name": "python",
   "nbconvert_exporter": "python",
   "pygments_lexer": "ipython3",
   "version": "3.6.3"
  }
 },
 "nbformat": 4,
 "nbformat_minor": 2
}
